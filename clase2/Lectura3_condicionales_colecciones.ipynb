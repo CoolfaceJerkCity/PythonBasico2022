{
  "nbformat": 4,
  "nbformat_minor": 0,
  "metadata": {
    "colab": {
      "name": "Lectura3_condicionales_colecciones.ipynb",
      "provenance": []
    },
    "kernelspec": {
      "name": "python3",
      "display_name": "Python 3"
    },
    "language_info": {
      "name": "python"
    }
  },
  "cells": [
    {
      "cell_type": "markdown",
      "source": [
        "#Flujo y Colecciones\n",
        "\n",
        "<p>En esta clase vamos a revisar los fundamentos básicos de un algoritmo y las colecciones de instancias.</p>"
      ],
      "metadata": {
        "id": "5VdmLbZVNM_E"
      }
    },
    {
      "cell_type": "markdown",
      "source": [
        "## Primer programa\n",
        "\n"
      ],
      "metadata": {
        "id": "UdIRO8cxNRlT"
      }
    },
    {
      "cell_type": "code",
      "source": [
        "\"\"\"\n",
        "Un programa que salude solo si el usario lo decide\n",
        "\"\"\"\n",
        "\n",
        "saludo = \"Bienvenido al programa\"\n",
        "print(saludo)\n",
        "eleccion = input('Ingrese \"S\" si desea que lo salude:  ')\n",
        "if eleccion == 'S':\n",
        "  name = input('Ingrese su nombre: ')\n",
        "  print(\"Hola, bienvenido \",name,\" gracias por estar aquí.\")  "
      ],
      "metadata": {
        "id": "KzRRt1nfNPsW",
        "colab": {
          "base_uri": "https://localhost:8080/"
        },
        "outputId": "85abde6b-a885-442a-e04b-63e1e1727aed"
      },
      "execution_count": null,
      "outputs": [
        {
          "name": "stdout",
          "output_type": "stream",
          "text": [
            "Bienvenido al programa\n",
            "Ingrese \"S\" si desea que lo salude:  N\n"
          ]
        }
      ]
    },
    {
      "cell_type": "markdown",
      "source": [
        "### Posibles Errores"
      ],
      "metadata": {
        "id": "py5XpZWr2L6S"
      }
    },
    {
      "cell_type": "code",
      "source": [
        "\"\"\"\n",
        "Error de indexación\n",
        "\"\"\"\n",
        "\n",
        "saludo = \"Bienvenido al programa\"\n",
        "print(saludo)\n",
        "eleccion = input('Ingrese \"S\" si desea que lo salude:  ')\n",
        "if eleccion == 'S':\n",
        "name = input('Ingrese su nombre: ')\n",
        "print(\"Hola, bienvenido \",name,\" gracias por estar aquí.\")  "
      ],
      "metadata": {
        "colab": {
          "base_uri": "https://localhost:8080/",
          "height": 131
        },
        "id": "FAhTvt-22LaB",
        "outputId": "16014a63-63d3-4029-ec5f-fa9fe48bffaa"
      },
      "execution_count": null,
      "outputs": [
        {
          "output_type": "error",
          "ename": "IndentationError",
          "evalue": "ignored",
          "traceback": [
            "\u001b[0;36m  File \u001b[0;32m\"<ipython-input-3-7d58ee068ef7>\"\u001b[0;36m, line \u001b[0;32m9\u001b[0m\n\u001b[0;31m    name = input('Ingrese su nombre: ')\u001b[0m\n\u001b[0m       ^\u001b[0m\n\u001b[0;31mIndentationError\u001b[0m\u001b[0;31m:\u001b[0m expected an indented block\n"
          ]
        }
      ]
    },
    {
      "cell_type": "markdown",
      "source": [
        "##Segundo Programa"
      ],
      "metadata": {
        "id": "RI2bVDcq2X_I"
      }
    },
    {
      "cell_type": "code",
      "source": [
        "\"\"\"\n",
        "Definir un programa que pregunte al usuario si desea ingresar su email\n",
        "o su número de celular\n",
        "\"\"\"\n",
        "\n",
        "saludo = \"Bienvenido al programa\"\n",
        "despedida = \"Saliendo del programa\"\n",
        "print(saludo)\n",
        "eleccion = input('Ingrese \"email\" si desea colocar su email, \"celular\" si desea colocar su celular o cualquier otra cosa si desea salir:  ')\n",
        "name = input('Ingrese su nombre : ')\n",
        "if eleccion == 'email':\n",
        "  email = input('Ingrese su email: ')\n",
        "  print(\"Hola, bienvenido \",name,\" su email es:\", email)  \n",
        "elif eleccion == 'celular':\n",
        "  email = input('Ingrese su celular: ')\n",
        "  print(\"Hola, bienvenido \",name,\" su celular es:\", celular)\n",
        "else:\n",
        "  print(despedida)"
      ],
      "metadata": {
        "colab": {
          "base_uri": "https://localhost:8080/"
        },
        "id": "q3-BudsxaQCc",
        "outputId": "2523b00e-f026-4582-dac0-df10b49080f9"
      },
      "execution_count": null,
      "outputs": [
        {
          "output_type": "stream",
          "name": "stdout",
          "text": [
            "Bienvenido al programa\n",
            "Ingrese \"email\" si desea colocar su email, \"celular\" si desea colocar su celular o cualquier otra cosa si desea salir:  email\n",
            "Ingrese su nombre : Pedro\n",
            "Ingrese su email: pedro.rotta@gmail.com\n",
            "Hola, bienvenido  Pedro  su email es. pedro.rotta@gmail.com\n"
          ]
        }
      ]
    },
    {
      "cell_type": "markdown",
      "source": [
        "### Posibles Errores"
      ],
      "metadata": {
        "id": "SXmMvv6nfItV"
      }
    },
    {
      "cell_type": "code",
      "source": [
        "\"\"\"\n",
        "Error en la indexación\n",
        "\"\"\"\n",
        "\n",
        "saludo = \"Bienvenido al programa\"\n",
        "despedida = \"Saliendo del programa\"\n",
        "print(saludo)\n",
        "eleccion = input('Ingrese \"email\" si desea colocar su email, \"celular\" si desea colocar su celular o cualquier otra cosa si desea salir:  ')\n",
        "name = input('Ingrese su nombre : ')\n",
        "if eleccion == 'email':\n",
        "  email = input('Ingrese su email: ')\n",
        "  print(\"Hola, bienvenido \",name,\" su email es:\", email)  \n",
        "  elif eleccion == 'celular':\n",
        "   email = input('Ingrese su celular: ')\n",
        "    print(\"Hola, bienvenido \",name,\" su celular es:\", celular)\n",
        "  else:\n",
        "    print(despedida)"
      ],
      "metadata": {
        "colab": {
          "base_uri": "https://localhost:8080/",
          "height": 131
        },
        "id": "WNdVu1a5fMUS",
        "outputId": "89c553b7-d627-4f65-dbce-ec74d64dc94e"
      },
      "execution_count": null,
      "outputs": [
        {
          "output_type": "error",
          "ename": "SyntaxError",
          "evalue": "ignored",
          "traceback": [
            "\u001b[0;36m  File \u001b[0;32m\"<ipython-input-3-e9145728a11b>\"\u001b[0;36m, line \u001b[0;32m13\u001b[0m\n\u001b[0;31m    elif eleccion == 'celular':\u001b[0m\n\u001b[0m       ^\u001b[0m\n\u001b[0;31mSyntaxError\u001b[0m\u001b[0;31m:\u001b[0m invalid syntax\n"
          ]
        }
      ]
    },
    {
      "cell_type": "markdown",
      "source": [
        "##Tercer Problema"
      ],
      "metadata": {
        "id": "IQ4_mq0nl2l0"
      }
    },
    {
      "cell_type": "code",
      "source": [
        "#Mejorar el programa anterior\n",
        "\n",
        "saludo = \"Bienvenido al programa\"\n",
        "despedida = \"Saliendo del programa\"\n",
        "print(saludo)\n",
        "eleccion = input('Ingrese \"email\" si desea colocar su email, \"celular\" si desea colocar su celular o cualquier otra cosa si desea salir:  ')\n",
        "name = input('Ingrese su nombre : ')\n",
        "if eleccion == 'email':\n",
        "  email = input('Ingrese su email: ')\n",
        "  eleccion2 = input('Ingrese \"celular\" si desea también colocar su celular, Ingrese cualquier otra cosa para salir:  ')\n",
        "  if eleccion2 == 'celular':\n",
        "    celular = input('Ingrese su celular: ')\n",
        "    print(\"Hola, bienvenido \",name,\" su email es:\", email,\" y su celular es \",celular)\n",
        "    print(despedida)\n",
        "  else:\n",
        "    print(\"Hola, bienvenido \",name,\" su email es:\", email)\n",
        "    print(despedida)\n",
        "elif eleccion == 'celular':\n",
        "  celular = input('Ingrese su celular: ')\n",
        "  eleccion2 = input('Ingrese \"email\" si desea también colocar su email, Ingrese cualquier otra cosa para salir:  ')\n",
        "  if eleccion2 == 'email':\n",
        "    email = input('Ingrese su email: ')\n",
        "    print(\"Hola, bienvenido \",name,\" su celular es:\", celular, \" y su email es\",email)\n",
        "    print(despedida)\n",
        "  else:\n",
        "    print(\"Hola, bienvenido \",name,\" su celular es:\", celular)\n",
        "    print(despedida)\n",
        "else:\n",
        "  print(\"hola, bienvenido\",name)\n",
        "  print(despedida)\n"
      ],
      "metadata": {
        "colab": {
          "base_uri": "https://localhost:8080/"
        },
        "id": "dpPeqnaql7Wf",
        "outputId": "856f6031-249d-4d05-93a2-f672c999453e"
      },
      "execution_count": 7,
      "outputs": [
        {
          "output_type": "stream",
          "name": "stdout",
          "text": [
            "Bienvenido al programa\n",
            "Ingrese \"email\" si desea colocar su email, \"celular\" si desea colocar su celular o cualquier otra cosa si desea salir:  s\n",
            "Ingrese su nombre : pedro\n",
            "hola, bienvenido pedro\n",
            "Saliendo del programa\n"
          ]
        }
      ]
    },
    {
      "cell_type": "markdown",
      "source": [
        "## 4to Problema"
      ],
      "metadata": {
        "id": "4enJXqxqg2lW"
      }
    },
    {
      "cell_type": "code",
      "source": [
        "\"\"\"\n",
        "Usted decide hacer un programa para almacenenar hasta 4 celulares. El primero es obligatorio y los otros no. \n",
        "\"\"\"\n",
        "mensaje_decision = 'Ingrese \"S\" si desea ingresar un celular y otra tecla para salir'\n",
        "Celulares = [int(input('Ingrese un celular: '))]\n",
        "mensaje_celulares = 'Sus celulares están guardados en :'\n",
        "mensaje_adios = \"El programa termino\"\n",
        "print()\n",
        "decision1 = input(mensaje_decision)\n",
        "if decision1 == 'S':\n",
        "  Celulares.append(int(input('Ingrese un celular: ')))\n",
        "  decision2 = input(mensaje_decision)\n",
        "  if decision2 == 'S':\n",
        "    Celulares.append(int(input('Ingrese un celular: ')))\n",
        "    decision3 = input(mensaje_decision)\n",
        "    if decision3 == 'S':\n",
        "      Celulares.append(int(input('Ingrese un celular: ')))\n",
        "      print(mensaje_celulares,Celulares)\n",
        "      print(mensaje_adios)\n",
        "    else:\n",
        "      print(mensaje_celulares,Celulares)\n",
        "      print(mensaje_adios)\n",
        "  else:\n",
        "    print(mensaje_celulares,Celulares)\n",
        "    print(mensaje_adios)\n",
        "else:\n",
        "  print(mensaje_celulares,Celulares)\n",
        "  print(mensaje_adios)"
      ],
      "metadata": {
        "id": "XgmaxvmtmHas",
        "colab": {
          "base_uri": "https://localhost:8080/"
        },
        "outputId": "d5d9e920-5eb2-4d88-9d85-4e8f92d6bb13"
      },
      "execution_count": 16,
      "outputs": [
        {
          "output_type": "stream",
          "name": "stdout",
          "text": [
            "Ingrese un celular: 9982131\n",
            "\n",
            "Ingrese \"S\" si desea ingresar un celular y otra tecla para salirS\n",
            "Ingrese un celular: 2139131\n",
            "Ingrese \"S\" si desea ingresar un celular y otra tecla para salirS\n",
            "Ingrese un celular: 21231\n",
            "Ingrese \"S\" si desea ingresar un celular y otra tecla para salirS\n",
            "Ingrese un celular: 1321\n",
            "Sus celulares están guardados en : [9982131, 2139131, 21231, 1321]\n",
            "El programa termino\n"
          ]
        }
      ]
    },
    {
      "cell_type": "code",
      "source": [
        "\"\"\"\n",
        "Para elegir el primer celular\n",
        "\"\"\"\n",
        "Celulares[0]"
      ],
      "metadata": {
        "colab": {
          "base_uri": "https://localhost:8080/"
        },
        "id": "0gRNzN0b-A7G",
        "outputId": "1757fbda-3585-4280-80f7-1da94ac6da54"
      },
      "execution_count": 19,
      "outputs": [
        {
          "output_type": "execute_result",
          "data": {
            "text/plain": [
              "9982131"
            ]
          },
          "metadata": {},
          "execution_count": 19
        }
      ]
    },
    {
      "cell_type": "code",
      "source": [
        "\"\"\"\n",
        "Para elegir los 3 primeros\n",
        "\"\"\"\n",
        "Celulares[:3]"
      ],
      "metadata": {
        "colab": {
          "base_uri": "https://localhost:8080/"
        },
        "id": "s5KIbG1g_hDx",
        "outputId": "3f305319-0e22-41da-b690-69d2d1558909"
      },
      "execution_count": 20,
      "outputs": [
        {
          "output_type": "execute_result",
          "data": {
            "text/plain": [
              "[9982131, 2139131, 21231]"
            ]
          },
          "metadata": {},
          "execution_count": 20
        }
      ]
    },
    {
      "cell_type": "code",
      "source": [
        "\"\"\"\n",
        "Para elegir el 2 y el 3ero\n",
        "\"\"\"\n",
        "Celulares[1:3]"
      ],
      "metadata": {
        "colab": {
          "base_uri": "https://localhost:8080/"
        },
        "id": "M7SFeNwLFURS",
        "outputId": "c69f31b8-0714-48d0-9988-84467411bb5e"
      },
      "execution_count": 22,
      "outputs": [
        {
          "output_type": "execute_result",
          "data": {
            "text/plain": [
              "[2139131, 21231]"
            ]
          },
          "metadata": {},
          "execution_count": 22
        }
      ]
    },
    {
      "cell_type": "code",
      "source": [
        "\"\"\"\n",
        "Para elegir del 2 al 4to\n",
        "\"\"\"\n",
        "Celulares[1:]"
      ],
      "metadata": {
        "colab": {
          "base_uri": "https://localhost:8080/"
        },
        "id": "OdvdWqq6FbtK",
        "outputId": "de52fd4d-cc2e-413d-ff7d-0b387acf0b4d"
      },
      "execution_count": 26,
      "outputs": [
        {
          "output_type": "execute_result",
          "data": {
            "text/plain": [
              "[2139131, 21231, 1321]"
            ]
          },
          "metadata": {},
          "execution_count": 26
        }
      ]
    },
    {
      "cell_type": "code",
      "source": [
        "Celulares.pop(0)\n",
        "Celulares"
      ],
      "metadata": {
        "colab": {
          "base_uri": "https://localhost:8080/"
        },
        "id": "TG4iE5CsF5He",
        "outputId": "6fa4ab8d-7c91-4911-b9a5-2e362e7a8975"
      },
      "execution_count": 28,
      "outputs": [
        {
          "output_type": "execute_result",
          "data": {
            "text/plain": [
              "[2139131, 21231, 1321]"
            ]
          },
          "metadata": {},
          "execution_count": 28
        }
      ]
    },
    {
      "cell_type": "code",
      "source": [
        "Celulares.pop(0)"
      ],
      "metadata": {
        "colab": {
          "base_uri": "https://localhost:8080/"
        },
        "id": "hDHB3F-eICgH",
        "outputId": "6582a90d-ffc1-493c-9442-e3659ff9c63e"
      },
      "execution_count": 29,
      "outputs": [
        {
          "output_type": "execute_result",
          "data": {
            "text/plain": [
              "2139131"
            ]
          },
          "metadata": {},
          "execution_count": 29
        }
      ]
    },
    {
      "cell_type": "markdown",
      "source": [
        "## Problema 5"
      ],
      "metadata": {
        "id": "9adeCCD4VgLL"
      }
    },
    {
      "cell_type": "code",
      "source": [
        "\"\"\"\n",
        "Ordenar en un diccionario a los usuarios de una plataforma donde guarden sus películas favoritas. El programa debe permitir elegir un usuario para ver sus películas\n",
        "favoritas\n",
        "\"\"\"\n",
        "\n",
        "usuarios = {\n",
        "            \n",
        "            '01': {'Name': 'Juan', 'email': 'juan.arbulu@gmail.com', 'celular': '95901456', 'peliculas favoritas': ['Avatar', 'Monster INC', '300']},\n",
        "            '02': {'Name': 'Roberto', 'email': 'roberto.ramirez@gmail.com', 'celular': '93911458', 'peliculas favoritas': ['Troya', 'El gladiador']}\n",
        "\n",
        "            }\n",
        "valor = input('Ingrese el ID del usuario')\n",
        "print(usuarios[valor])"
      ],
      "metadata": {
        "colab": {
          "base_uri": "https://localhost:8080/"
        },
        "id": "lfxq_CpFI5-b",
        "outputId": "647e05a8-d249-45ea-cbf6-627ebd5bfa0f"
      },
      "execution_count": 45,
      "outputs": [
        {
          "output_type": "stream",
          "name": "stdout",
          "text": [
            "Ingrese el ID del usuario01\n",
            "{'Name': 'Juan', 'email': 'juan.arbulu@gmail.com', 'celular': '95901456', 'peliculas favoritas': ['Avatar', 'Monster INC', '300']}\n"
          ]
        }
      ]
    },
    {
      "cell_type": "markdown",
      "source": [
        "##Problema 6"
      ],
      "metadata": {
        "id": "PoXTE7fWb3Ce"
      }
    },
    {
      "cell_type": "code",
      "source": [
        "\"\"\"\n",
        "Desea devolver la suma y la resta de dos numeros elegidos por usted, en un resultado invariante. Por lo que elije una tupla\n",
        "\"\"\"\n",
        "a = float(input('Ingrese un valor: '))\n",
        "b = float(input('Ingrese un valor: '))\n",
        "Suma = a+b\n",
        "Resta = a-b\n",
        "Tupla_Resultado = (Suma,Resta)\n",
        "print(Tupla_Resultado)"
      ],
      "metadata": {
        "colab": {
          "base_uri": "https://localhost:8080/"
        },
        "id": "IWFIGah2b6so",
        "outputId": "c70afc0e-3c45-419c-f4a2-0b9882861ad9"
      },
      "execution_count": 57,
      "outputs": [
        {
          "output_type": "stream",
          "name": "stdout",
          "text": [
            "Ingrese un valor: 10\n",
            "Ingrese un valor: 5\n",
            "(15.0, 5.0)\n"
          ]
        }
      ]
    },
    {
      "cell_type": "code",
      "source": [
        "len(Tupla_Resultado)"
      ],
      "metadata": {
        "colab": {
          "base_uri": "https://localhost:8080/"
        },
        "id": "TilcJhhYdxL_",
        "outputId": "8d352407-34ff-4215-a682-fe8ad908a3a6"
      },
      "execution_count": 61,
      "outputs": [
        {
          "output_type": "execute_result",
          "data": {
            "text/plain": [
              "2"
            ]
          },
          "metadata": {},
          "execution_count": 61
        }
      ]
    },
    {
      "cell_type": "markdown",
      "source": [
        "## Problema 7"
      ],
      "metadata": {
        "id": "heJOZMxwhLiE"
      }
    },
    {
      "cell_type": "code",
      "source": [
        "\"\"\"\n",
        "Desea usar pyhton para hacer una pequeña calculadora que permita hacer las 4 operaciones básicas a 2 números flotantes. \n",
        "pedir los dos números y elegir si desea hacer suma, resta, multiplicación y división. El programa solo puede hacer una operación a la vez\n",
        "\"\"\""
      ],
      "metadata": {
        "colab": {
          "base_uri": "https://localhost:8080/",
          "height": 52
        },
        "id": "-jIMpj1ihNRg",
        "outputId": "2981a459-d64e-470f-f120-94c78910f9db"
      },
      "execution_count": 66,
      "outputs": [
        {
          "output_type": "execute_result",
          "data": {
            "application/vnd.google.colaboratory.intrinsic+json": {
              "type": "string"
            },
            "text/plain": [
              "'\\nDesea usar pyhton para hacer una pequeña calculadora que permita hacer las 4 operaciones básicas a 2 números flotantes. \\npedir los dos números y elegir si desea hacer suma, resta, multiplicación y división. El programa solo puede hacer una operación a la vez\\n'"
            ]
          },
          "metadata": {},
          "execution_count": 66
        }
      ]
    },
    {
      "cell_type": "markdown",
      "source": [
        "##Problema 8"
      ],
      "metadata": {
        "id": "OKNq9rWkqbhN"
      }
    },
    {
      "cell_type": "code",
      "source": [
        "\"\"\"\n",
        "Desea hacer un programa que imprima el nombre y/o la edad de una persona\n",
        "1. Solicita al usuario qué desea imprimir, si el nombre o la edad\n",
        "2. Almacena el valor en una variable\n",
        "3. Devuelve el valor \n",
        "\"\"\""
      ],
      "metadata": {
        "colab": {
          "base_uri": "https://localhost:8080/",
          "height": 52
        },
        "id": "pLfTfiMcuWCc",
        "outputId": "6173431e-2fc1-4584-c563-9fa010fce337"
      },
      "execution_count": 76,
      "outputs": [
        {
          "output_type": "execute_result",
          "data": {
            "application/vnd.google.colaboratory.intrinsic+json": {
              "type": "string"
            },
            "text/plain": [
              "'\\nDesea hacer un programa que imprima el nombre y/o la edad de una persona\\n1. Solicita al usuario qué desea imprimir, si el nombre o la edad\\n2. Almacena el valor en una variable\\n3. Devuelve el valor \\n'"
            ]
          },
          "metadata": {},
          "execution_count": 76
        }
      ]
    },
    {
      "cell_type": "markdown",
      "source": [
        "##Problema 9"
      ],
      "metadata": {
        "id": "e8lvDs1tuq4j"
      }
    },
    {
      "cell_type": "markdown",
      "source": [
        ""
      ],
      "metadata": {
        "id": "vR7CmIf0vpaQ"
      }
    },
    {
      "cell_type": "code",
      "source": [
        "\"\"\"\n",
        "El juego de pom, es el siguiente. Usted pide a un usuario que diga un número. \n",
        "  Si el número es múltiplo de 7 en la pantalla se imprime el número\n",
        "  Si el número es múltiplo de 7 y de 3  en la pantalla se imprime numero curioso\n",
        "  Si el número es múltiplo de 5, 7 y de 3  en la pantalla se imprime pom\n",
        "\n",
        "Nota : el comando % devuelve el residuo de una operación de división. Por ejemplo 4%2 == 0 . \n",
        "\"\"\"\n",
        "\n",
        "print(4%2)"
      ],
      "metadata": {
        "colab": {
          "base_uri": "https://localhost:8080/"
        },
        "id": "NuAwreM8u4j5",
        "outputId": "fbea4457-70d1-44f5-cd5f-070c39b706f8"
      },
      "execution_count": 78,
      "outputs": [
        {
          "output_type": "stream",
          "name": "stdout",
          "text": [
            "0\n"
          ]
        }
      ]
    },
    {
      "cell_type": "markdown",
      "source": [
        "##Problema 10"
      ],
      "metadata": {
        "id": "iqFlyWFtwRbi"
      }
    },
    {
      "cell_type": "code",
      "source": [
        "\"\"\"\n",
        "Parte de un proceso financiero es preguntarle a las personas si desean el número de un asesor\n",
        "o si desean salir del programa. \n",
        "Guarde en una variable la opción que elija el usuario\n",
        "Imprima, si así se desea un número de teléfono con un mensaje diciendo que es el número del asesor \n",
        "Imprima, si así se desea un mensaje de despedida del sistema\n",
        "\"\"\""
      ],
      "metadata": {
        "id": "zAM4YMpbvw0J"
      },
      "execution_count": null,
      "outputs": []
    },
    {
      "cell_type": "markdown",
      "source": [
        "## Problema 11"
      ],
      "metadata": {
        "id": "kfSKMX-8vf44"
      }
    },
    {
      "cell_type": "code",
      "source": [
        "\"\"\"\n",
        "Desa usar python para hacer una colección de sus peliculas favoritas.\n",
        "Haga un bluce indexado hasta 3 películas y almacene los valores en una lista\n",
        "\"\"\""
      ],
      "metadata": {
        "colab": {
          "base_uri": "https://localhost:8080/",
          "height": 35
        },
        "id": "rdwsVF6tqaKo",
        "outputId": "00aaca16-9774-4a10-ef15-4540059ec028"
      },
      "execution_count": 70,
      "outputs": [
        {
          "output_type": "execute_result",
          "data": {
            "application/vnd.google.colaboratory.intrinsic+json": {
              "type": "string"
            },
            "text/plain": [
              "'\\nDesa usar python para hacer una colección de sus peliculas favoritas.\\nHaga un bluce indexado hasta 3 películas y almacene los valores en una lista\\n'"
            ]
          },
          "metadata": {},
          "execution_count": 70
        }
      ]
    },
    {
      "cell_type": "markdown",
      "source": [
        "##Problema 12"
      ],
      "metadata": {
        "id": "hfbCz2WMrZHR"
      }
    },
    {
      "cell_type": "code",
      "source": [
        "\"\"\"\n",
        ". Escriba en una lista sus 10 películas favoritas\n",
        "  a). Imprima en la pantalla las 3 primeras\n",
        "  b). Imprima las 3 ultimas\n",
        "  c). Imprima la 3ra\n",
        "  d). Imprima la 2da\n",
        "\"\"\""
      ],
      "metadata": {
        "colab": {
          "base_uri": "https://localhost:8080/",
          "height": 52
        },
        "id": "NPW2Gt-1qe8w",
        "outputId": "265beb39-3659-4593-f23a-cbf8cb3ffbce"
      },
      "execution_count": 71,
      "outputs": [
        {
          "output_type": "execute_result",
          "data": {
            "application/vnd.google.colaboratory.intrinsic+json": {
              "type": "string"
            },
            "text/plain": [
              "'\\n1. Escriba en una lista sus 10 películas favoritas\\n  a). Imprima en la pantalla las 3 primeras\\n  b). Imprima las 3 ultimas\\n  c). Imprima la 3ra\\n  d). Imprima la 2da\\n'"
            ]
          },
          "metadata": {},
          "execution_count": 71
        }
      ]
    },
    {
      "cell_type": "markdown",
      "source": [
        "##Problema 13"
      ],
      "metadata": {
        "id": "UoqS67iVtXJT"
      }
    },
    {
      "cell_type": "code",
      "source": [
        "\"\"\"\n",
        "Guarde en una lista 10 nombres de amigos\n",
        "  a) Imprima una tupla con el 2do y 3ernombre\n",
        "  b) Imprima los del 2do al 5to\n",
        "  c) Imprima del 1ero al 3ero\n",
        "\"\"\""
      ],
      "metadata": {
        "colab": {
          "base_uri": "https://localhost:8080/",
          "height": 35
        },
        "id": "Dfj2yeDgtWa4",
        "outputId": "4a05245f-0da5-48c5-f704-ba8b78c706bf"
      },
      "execution_count": 74,
      "outputs": [
        {
          "output_type": "execute_result",
          "data": {
            "application/vnd.google.colaboratory.intrinsic+json": {
              "type": "string"
            },
            "text/plain": [
              "'\\nGuarde en una lista 10 nombres de amigos\\n  a) Imprima una tupla con el 2do y 3ernombre\\n  b) Imprima los del 2do al 5to\\n  c) Imprima del 1ero al 3ero\\n'"
            ]
          },
          "metadata": {},
          "execution_count": 74
        }
      ]
    },
    {
      "cell_type": "markdown",
      "source": [
        "##Problema 14"
      ],
      "metadata": {
        "id": "vebLNCU5t5CY"
      }
    },
    {
      "cell_type": "code",
      "source": [
        "\"\"\"\n",
        "\n",
        "Guarde en una lista 7 ciudades del Perú\n",
        " a) Imprime la 2da Ciudad de la lista y bórrala\n",
        " b) Imprime la 3era Ciudad de la lista\n",
        " c) Imprime la lista resultante\n",
        " d) Imprima las ciudadades ordenadas. Use set(Lista) para resolverlo. \n",
        "\n",
        "\"\"\""
      ],
      "metadata": {
        "colab": {
          "base_uri": "https://localhost:8080/",
          "height": 52
        },
        "id": "mSKEsFnXt4PH",
        "outputId": "0dde35f7-b32e-45f2-c59a-ddb02a8d3eff"
      },
      "execution_count": 75,
      "outputs": [
        {
          "output_type": "execute_result",
          "data": {
            "application/vnd.google.colaboratory.intrinsic+json": {
              "type": "string"
            },
            "text/plain": [
              "'\\n\\nGuarde en una lista 7 ciudades del Perú\\n a) Imprime la 2da Ciudad de la lista y bórrala\\n b) Imprime la 3era Ciudad de la lista\\n c) Imprime la lista resultante\\n\\n'"
            ]
          },
          "metadata": {},
          "execution_count": 75
        }
      ]
    },
    {
      "cell_type": "markdown",
      "source": [
        "## Problema 15"
      ],
      "metadata": {
        "id": "MiAopxvdwjOc"
      }
    },
    {
      "cell_type": "code",
      "source": [
        "\"\"\"\n",
        "Escriba un diccionario con los datos de 4 países de latinoamérica. Cada país debe contener la cantidad de habitantes, el nombre del presidente, idioma y capital\n",
        "  a) Imprima todo el diccionario\n",
        "  b) Imprima un país, buscando por su nombre\n",
        "\"\"\""
      ],
      "metadata": {
        "colab": {
          "base_uri": "https://localhost:8080/",
          "height": 52
        },
        "id": "3N7wo5W7s3a2",
        "outputId": "add4b0ee-3abf-44f9-ca8b-5ae2046af380"
      },
      "execution_count": 79,
      "outputs": [
        {
          "output_type": "execute_result",
          "data": {
            "application/vnd.google.colaboratory.intrinsic+json": {
              "type": "string"
            },
            "text/plain": [
              "'\\nEscriba un diccionario con los datos de 4 países de latinoamérica. Cada país debe contener la cantidad de habitantes, el nombre del presidente, idioma y capital\\n  a) Imprima todo el diccionario\\n  b) Imprima un país, buscando por su nombre\\n'"
            ]
          },
          "metadata": {},
          "execution_count": 79
        }
      ]
    },
    {
      "cell_type": "markdown",
      "source": [
        "##Problema16"
      ],
      "metadata": {
        "id": "GvYxaC999I3f"
      }
    },
    {
      "cell_type": "code",
      "source": [
        "\"\"\"\n",
        "Escriba un diccionario con los datos de 5 Cursos de su semestre académico. Cada curso debe tener el nombre del profesor que dicta el curso, las horas del curso\n",
        "y las horas de estudio que desea colocar:\n",
        "  a) Imprima todo el diccionario\n",
        "  b) Imprima un curso, buscando por su nombre\n",
        "\"\"\""
      ],
      "metadata": {
        "colab": {
          "base_uri": "https://localhost:8080/",
          "height": 52
        },
        "id": "0EuaFMChuTgS",
        "outputId": "d76c1923-a224-4716-f6c1-f118c50a9100"
      },
      "execution_count": 80,
      "outputs": [
        {
          "output_type": "execute_result",
          "data": {
            "application/vnd.google.colaboratory.intrinsic+json": {
              "type": "string"
            },
            "text/plain": [
              "'\\nEscriba un diccionario con los datos de 5 Cursos de su semestre académico. Cada curso debe tener el nombre del profesor que dicta el curso, las horas del curso\\ny las horas de estudio que desea colocar:\\n  a) Imprima todo el diccionario\\n  b) Imprima un curso, buscando por su nombre\\n'"
            ]
          },
          "metadata": {},
          "execution_count": 80
        }
      ]
    }
  ]
}