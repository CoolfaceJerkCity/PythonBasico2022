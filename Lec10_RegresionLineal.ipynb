{
  "nbformat": 4,
  "nbformat_minor": 0,
  "metadata": {
    "colab": {
      "name": "Lec10_RegresionLineal.ipynb",
      "provenance": [],
      "authorship_tag": "ABX9TyNwFBFacYwwZxN0Vz+4WCzQ",
      "include_colab_link": true
    },
    "kernelspec": {
      "name": "python3",
      "display_name": "Python 3"
    },
    "language_info": {
      "name": "python"
    }
  },
  "cells": [
    {
      "cell_type": "markdown",
      "metadata": {
        "id": "view-in-github",
        "colab_type": "text"
      },
      "source": [
        "<a href=\"https://colab.research.google.com/github/pedrorotta/PythonBasico2022/blob/main/Lec10_RegresionLineal.ipynb\" target=\"_parent\"><img src=\"https://colab.research.google.com/assets/colab-badge.svg\" alt=\"Open In Colab\"/></a>"
      ]
    },
    {
      "cell_type": "markdown",
      "source": [
        "## Problema1"
      ],
      "metadata": {
        "id": "FhPxbRQHyT2u"
      }
    },
    {
      "cell_type": "code",
      "execution_count": null,
      "metadata": {
        "id": "63T8DqvKyPeE"
      },
      "outputs": [],
      "source": [
        "\"\"\"\n",
        "Hacer un modelo de RL para la dataset de precio de casas tomando en cuenta los m2 \n",
        "\"\"\""
      ]
    },
    {
      "cell_type": "markdown",
      "source": [
        "## Problema 2"
      ],
      "metadata": {
        "id": "710M4XhOyshc"
      }
    },
    {
      "cell_type": "code",
      "source": [
        "\"\"\"\n",
        "Hacer un modelo de RL para la dataset de precio de casas tomando en cuenta los m2,los baños y los cuartos\n",
        "\"\"\""
      ],
      "metadata": {
        "colab": {
          "base_uri": "https://localhost:8080/",
          "height": 35
        },
        "id": "zQ4DbtT7ytmv",
        "outputId": "ec7cb9e7-4059-41ff-a009-fe0c977936b6"
      },
      "execution_count": 1,
      "outputs": [
        {
          "output_type": "execute_result",
          "data": {
            "application/vnd.google.colaboratory.intrinsic+json": {
              "type": "string"
            },
            "text/plain": [
              "'\\nHacer un modelo de RL para la dataset de precio de casas tomando en cuenta los m2,los baños y los cuartos\\n'"
            ]
          },
          "metadata": {},
          "execution_count": 1
        }
      ]
    },
    {
      "cell_type": "markdown",
      "source": [
        "## Problema3 "
      ],
      "metadata": {
        "id": "L4q4nJ0by0zF"
      }
    },
    {
      "cell_type": "code",
      "source": [
        "\"\"\"\n",
        "Hacer un modelo de RL para la dataset de precio de casas tomando en cuenta un ajuste polinomial. \n",
        "\"\"\""
      ],
      "metadata": {
        "id": "vknelqrny0Cq"
      },
      "execution_count": null,
      "outputs": []
    },
    {
      "cell_type": "code",
      "source": [
        "# Evalúa los 3 modelos y define cuál crees será más acertivo."
      ],
      "metadata": {
        "id": "6DWQHcu7zCFg"
      },
      "execution_count": 2,
      "outputs": []
    },
    {
      "cell_type": "code",
      "source": [
        "\"\"\"\n",
        "Para el dataset cargado de sklearn diabetes hacer un modelo de regresión lineal simple, multiple y tomando en cuenta un ajuste polinomial\n",
        "\"\"\""
      ],
      "metadata": {
        "colab": {
          "base_uri": "https://localhost:8080/",
          "height": 52
        },
        "id": "kF7EGnUmzGNu",
        "outputId": "67633f3c-5bbb-4704-c369-cf2b3efd14e3"
      },
      "execution_count": 3,
      "outputs": [
        {
          "output_type": "execute_result",
          "data": {
            "application/vnd.google.colaboratory.intrinsic+json": {
              "type": "string"
            },
            "text/plain": [
              "'\\nPara el dataset cargado de sklearn diabetes hacer un modelo de regresión lineal simple, multiple y tomando en cuenta un ajuste polinomial\\n'"
            ]
          },
          "metadata": {},
          "execution_count": 3
        }
      ]
    }
  ]
}