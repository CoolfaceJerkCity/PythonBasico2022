{
  "nbformat": 4,
  "nbformat_minor": 0,
  "metadata": {
    "colab": {
      "name": "Lectura5_numpy.ipynb",
      "provenance": [],
      "collapsed_sections": [],
      "authorship_tag": "ABX9TyPMw26Ls3Q/liVYaji4rj+D",
      "include_colab_link": true
    },
    "kernelspec": {
      "name": "python3",
      "display_name": "Python 3"
    },
    "language_info": {
      "name": "python"
    }
  },
  "cells": [
    {
      "cell_type": "markdown",
      "metadata": {
        "id": "view-in-github",
        "colab_type": "text"
      },
      "source": [
        "<a href=\"https://colab.research.google.com/github/pedrorotta/PythonBasico2022/blob/main/Lectura5_numpy.ipynb\" target=\"_parent\"><img src=\"https://colab.research.google.com/assets/colab-badge.svg\" alt=\"Open In Colab\"/></a>"
      ]
    },
    {
      "cell_type": "markdown",
      "source": [
        "#Numpy\n",
        "\n",
        "En esta clase vamos a discutir las cosas que se pueden realizar usando esta librería de python"
      ],
      "metadata": {
        "id": "Da_awT_sjbHR"
      }
    },
    {
      "cell_type": "markdown",
      "source": [
        "## Problema1"
      ],
      "metadata": {
        "id": "V5SX_oBfmpGL"
      }
    },
    {
      "cell_type": "code",
      "source": [
        "#Realizar el comando para instalar numpy\n"
      ],
      "metadata": {
        "id": "8KcpKfslcOCA"
      },
      "execution_count": 45,
      "outputs": []
    },
    {
      "cell_type": "code",
      "source": [
        ""
      ],
      "metadata": {
        "id": "oCcv189s5cJm"
      },
      "execution_count": 45,
      "outputs": []
    },
    {
      "cell_type": "markdown",
      "source": [
        "## Problema 2"
      ],
      "metadata": {
        "id": "LmtsaXNn7WIg"
      }
    },
    {
      "cell_type": "code",
      "source": [
        "\"\"\"\n",
        "Crea un programa para almacenar las salidas y entradas del día en un array\n",
        "\"\"\"\n"
      ],
      "metadata": {
        "id": "UO1UMkASpTUm",
        "colab": {
          "base_uri": "https://localhost:8080/",
          "height": 35
        },
        "outputId": "1e22161a-8f9b-4392-a6f5-ed916c285892"
      },
      "execution_count": 46,
      "outputs": [
        {
          "output_type": "execute_result",
          "data": {
            "application/vnd.google.colaboratory.intrinsic+json": {
              "type": "string"
            },
            "text/plain": [
              "'\\nCrea un programa para almacenar las salidas y entradas del día en un array\\n'"
            ]
          },
          "metadata": {},
          "execution_count": 46
        }
      ]
    },
    {
      "cell_type": "markdown",
      "source": [
        "##Problema 3 "
      ],
      "metadata": {
        "id": "Bg8UJYjU-xvu"
      }
    },
    {
      "cell_type": "code",
      "source": [
        "\"\"\"\n",
        "Crea una colección en un array de números flotantes del 10 al 20, donde hallan 100 números\n",
        "\"\"\"\n"
      ],
      "metadata": {
        "colab": {
          "base_uri": "https://localhost:8080/",
          "height": 35
        },
        "id": "Wxx5Xg8saJzH",
        "outputId": "f6596ca3-16b7-4b59-cea9-06c87197615f"
      },
      "execution_count": 47,
      "outputs": [
        {
          "output_type": "execute_result",
          "data": {
            "application/vnd.google.colaboratory.intrinsic+json": {
              "type": "string"
            },
            "text/plain": [
              "'\\nCrea una colección en un array de números flotantes del 10 al 20, donde hallan 100 números\\n'"
            ]
          },
          "metadata": {},
          "execution_count": 47
        }
      ]
    },
    {
      "cell_type": "markdown",
      "source": [
        "## Problema 4"
      ],
      "metadata": {
        "id": "YD4okjZgh6J4"
      }
    },
    {
      "cell_type": "code",
      "execution_count": 48,
      "metadata": {
        "id": "UbwyQd_UiRxP",
        "colab": {
          "base_uri": "https://localhost:8080/",
          "height": 35
        },
        "outputId": "f8e01b41-eaf6-407e-f953-cbb817c1e60d"
      },
      "outputs": [
        {
          "output_type": "execute_result",
          "data": {
            "application/vnd.google.colaboratory.intrinsic+json": {
              "type": "string"
            },
            "text/plain": [
              "'\\nCrear un array para gastos trimestrales (Enero, Febrero y Marzo). De comida, transporte, vivenda y celular\\n'"
            ]
          },
          "metadata": {},
          "execution_count": 48
        }
      ],
      "source": [
        "\"\"\"\n",
        "Crear un array para gastos trimestrales (Enero, Febrero y Marzo). De comida, transporte, vivenda y celular\n",
        "\"\"\""
      ]
    },
    {
      "cell_type": "code",
      "source": [
        ""
      ],
      "metadata": {
        "id": "rd10XG6ySyF-"
      },
      "execution_count": 48,
      "outputs": []
    },
    {
      "cell_type": "code",
      "source": [
        ""
      ],
      "metadata": {
        "id": "TZ3iV3yKTRwK"
      },
      "execution_count": 48,
      "outputs": []
    },
    {
      "cell_type": "code",
      "source": [
        ""
      ],
      "metadata": {
        "id": "uq8cDel2qY0B"
      },
      "execution_count": 48,
      "outputs": []
    },
    {
      "cell_type": "markdown",
      "source": [
        "## Problema 5"
      ],
      "metadata": {
        "id": "VFbNy1uJyr78"
      }
    },
    {
      "cell_type": "code",
      "source": [
        "\"\"\"\n",
        "Leer una foto con numpy\n",
        "\"\"\"\n",
        "\n"
      ],
      "metadata": {
        "colab": {
          "base_uri": "https://localhost:8080/",
          "height": 35
        },
        "id": "AYXvvbnQCN5Q",
        "outputId": "70c2cdc8-8079-482d-a252-4a1354b66430"
      },
      "execution_count": 49,
      "outputs": [
        {
          "output_type": "execute_result",
          "data": {
            "application/vnd.google.colaboratory.intrinsic+json": {
              "type": "string"
            },
            "text/plain": [
              "'\\nLeer una foto con numpy\\n'"
            ]
          },
          "metadata": {},
          "execution_count": 49
        }
      ]
    },
    {
      "cell_type": "code",
      "source": [
        ""
      ],
      "metadata": {
        "id": "aO-en3b6Coe1"
      },
      "execution_count": 49,
      "outputs": []
    },
    {
      "cell_type": "code",
      "source": [
        ""
      ],
      "metadata": {
        "id": "Tz4cnaFBDzdm"
      },
      "execution_count": 49,
      "outputs": []
    },
    {
      "cell_type": "code",
      "source": [
        ""
      ],
      "metadata": {
        "id": "labMggzCC29f"
      },
      "execution_count": 49,
      "outputs": []
    },
    {
      "cell_type": "code",
      "source": [
        ""
      ],
      "metadata": {
        "id": "98wevF-FC4Tg"
      },
      "execution_count": 49,
      "outputs": []
    },
    {
      "cell_type": "code",
      "source": [
        ""
      ],
      "metadata": {
        "id": "OGgYf36UC738"
      },
      "execution_count": 49,
      "outputs": []
    },
    {
      "cell_type": "code",
      "source": [
        ""
      ],
      "metadata": {
        "id": "kmQ--PX6D7lo"
      },
      "execution_count": 49,
      "outputs": []
    },
    {
      "cell_type": "code",
      "source": [
        "# Crea una matriz de 3x4 de unos "
      ],
      "metadata": {
        "id": "A3_NlodmMl9u"
      },
      "execution_count": null,
      "outputs": []
    },
    {
      "cell_type": "code",
      "source": [
        "# Crea una matriz de 5x3 de ceros"
      ],
      "metadata": {
        "id": "sI9fvLGdMmZo"
      },
      "execution_count": null,
      "outputs": []
    },
    {
      "cell_type": "code",
      "source": [
        "# Haz un programa para que un usuario cree una matriz indentidad de un tamaño que el elija"
      ],
      "metadata": {
        "id": "vPksNxOyMmuB"
      },
      "execution_count": null,
      "outputs": []
    },
    {
      "cell_type": "code",
      "source": [
        "# Genere un función para calcular la transpuesta de una matriz "
      ],
      "metadata": {
        "id": "VlsAE7OtMm-4"
      },
      "execution_count": 42,
      "outputs": []
    },
    {
      "cell_type": "code",
      "source": [
        "# Genere una función para encontrar el producto interno de un vector por si mismo"
      ],
      "metadata": {
        "id": "kDQxOAy4MnOI"
      },
      "execution_count": 43,
      "outputs": []
    },
    {
      "cell_type": "code",
      "source": [
        "# Genere una función que convierta directamente una imagen en un array (Ingresa un url y la salida es un array)"
      ],
      "metadata": {
        "id": "A8GPf-_QMxro"
      },
      "execution_count": 44,
      "outputs": []
    }
  ]
}