{
  "nbformat": 4,
  "nbformat_minor": 0,
  "metadata": {
    "colab": {
      "name": "Clase1_ObjetosBasicos.ipynb",
      "provenance": []
    },
    "kernelspec": {
      "name": "python3",
      "display_name": "Python 3"
    },
    "language_info": {
      "name": "python"
    }
  },
  "cells": [
    {
      "cell_type": "markdown",
      "source": [
        "#Objetos básicos\n",
        "\n",
        "<p>\n",
        "En esta clase vamos a trabajar con programas muy sencillos, manejando objetos básicos, de tipo <strong>entero, flotante</strong> y de tipo <strong>cadena de texto.</strong>\n",
        "</p>"
      ],
      "metadata": {
        "id": "j4jZey91to-J"
      }
    },
    {
      "cell_type": "code",
      "source": [
        "\"\"\"\n",
        "Un programa que de un objeto simple\n",
        "En este caso el programa imprimirá un número\n",
        "\"\"\"\n",
        "print(\"Hola, este es un programa que solo saluda\")"
      ],
      "metadata": {
        "colab": {
          "base_uri": "https://localhost:8080/"
        },
        "id": "Dy5lJQdmvIuG",
        "outputId": "e2268f59-d2c8-452c-91f1-0430c1268f80"
      },
      "execution_count": null,
      "outputs": [
        {
          "output_type": "stream",
          "name": "stdout",
          "text": [
            "Hola, este es un programa que solo saluda\n"
          ]
        }
      ]
    },
    {
      "cell_type": "markdown",
      "source": [
        "## Primer programa"
      ],
      "metadata": {
        "id": "R8zKjPv7yxeL"
      }
    },
    {
      "cell_type": "code",
      "execution_count": null,
      "metadata": {
        "colab": {
          "base_uri": "https://localhost:8080/"
        },
        "id": "nxNncqsNsi9i",
        "outputId": "3c842fac-df0b-434d-95c5-7b7d59efcd2d"
      },
      "outputs": [
        {
          "output_type": "stream",
          "name": "stdout",
          "text": [
            "Ingresa tu email: 32\n",
            "Tu email es  32\n"
          ]
        }
      ],
      "source": [
        "\"\"\"\n",
        "Pedirle a un usuario el valor de un número para guardar (su correo). \n",
        "Este número que se guarda, usualmente tiene un valor de\n",
        "relevancia para nosotros. \n",
        "\"\"\"\n",
        "\n",
        "email = input('Ingresa tu email: ')\n",
        "print('Tu email es ',email)"
      ]
    },
    {
      "cell_type": "markdown",
      "source": [
        "<p>En este primer programa que hemos visto, solamente se pide al usuario un email y se imprime ese valor. El programa no revisa que el email esté bien escrito, ni tampoco revisa que sea un valor numérico,ni que cumpla ningún tipo de condición. Sin embargo, mientras nadie \"engañe\" es perfectamente usable </p>"
      ],
      "metadata": {
        "id": "ZWrKON6PvA8u"
      }
    },
    {
      "cell_type": "markdown",
      "source": [
        "### Posibles Errores"
      ],
      "metadata": {
        "id": "OOafvS7KxFwh"
      }
    },
    {
      "cell_type": "code",
      "source": [
        "#Al escribir mal el nombre de una función dara como NameError: name 'function' is not defined\n",
        "email = inp('Ingresa tu email: ')\n",
        "print('Tu email es', email)"
      ],
      "metadata": {
        "colab": {
          "base_uri": "https://localhost:8080/",
          "height": 184
        },
        "id": "3nC6RlPbuzx0",
        "outputId": "8c82c488-ee16-4229-add3-c7e884b9fb18"
      },
      "execution_count": null,
      "outputs": [
        {
          "output_type": "error",
          "ename": "NameError",
          "evalue": "ignored",
          "traceback": [
            "\u001b[0;31m---------------------------------------------------------------------------\u001b[0m",
            "\u001b[0;31mNameError\u001b[0m                                 Traceback (most recent call last)",
            "\u001b[0;32m<ipython-input-8-e32d1fb5ffec>\u001b[0m in \u001b[0;36m<module>\u001b[0;34m()\u001b[0m\n\u001b[0;32m----> 1\u001b[0;31m \u001b[0memail\u001b[0m \u001b[0;34m=\u001b[0m \u001b[0minp\u001b[0m\u001b[0;34m(\u001b[0m\u001b[0;34m'Ingresa tu email: '\u001b[0m\u001b[0;34m)\u001b[0m\u001b[0;34m\u001b[0m\u001b[0;34m\u001b[0m\u001b[0m\n\u001b[0m\u001b[1;32m      2\u001b[0m \u001b[0mprint\u001b[0m\u001b[0;34m(\u001b[0m\u001b[0;34m'Tu email es'\u001b[0m\u001b[0;34m,\u001b[0m \u001b[0memail\u001b[0m\u001b[0;34m)\u001b[0m\u001b[0;34m\u001b[0m\u001b[0;34m\u001b[0m\u001b[0m\n",
            "\u001b[0;31mNameError\u001b[0m: name 'inp' is not defined"
          ]
        }
      ]
    },
    {
      "cell_type": "code",
      "source": [
        "#invalid syntax\n",
        "email = input(('Ingresa tu email:')\n",
        "print('Tu email es', email)"
      ],
      "metadata": {
        "colab": {
          "base_uri": "https://localhost:8080/",
          "height": 132
        },
        "id": "-2g3cXRLxHrn",
        "outputId": "dde7638d-8fcf-470a-a12a-5b807d881470"
      },
      "execution_count": null,
      "outputs": [
        {
          "output_type": "error",
          "ename": "SyntaxError",
          "evalue": "ignored",
          "traceback": [
            "\u001b[0;36m  File \u001b[0;32m\"<ipython-input-13-6975537d12e3>\"\u001b[0;36m, line \u001b[0;32m2\u001b[0m\n\u001b[0;31m    print('Tu email es', email)\u001b[0m\n\u001b[0m        ^\u001b[0m\n\u001b[0;31mSyntaxError\u001b[0m\u001b[0;31m:\u001b[0m invalid syntax\n"
          ]
        }
      ]
    },
    {
      "cell_type": "code",
      "source": [
        "#Si te olvidas de colocar el último ' saldrá un error de scaning. \n",
        "email = inp('Ingresa tu email: )\n",
        "print('Tu email es', email)"
      ],
      "metadata": {
        "colab": {
          "base_uri": "https://localhost:8080/",
          "height": 132
        },
        "id": "IuGa2wg2yNKY",
        "outputId": "c694a7e9-e00d-4ea9-bdc2-e1fdb77c49a1"
      },
      "execution_count": null,
      "outputs": [
        {
          "output_type": "error",
          "ename": "SyntaxError",
          "evalue": "ignored",
          "traceback": [
            "\u001b[0;36m  File \u001b[0;32m\"<ipython-input-15-12d07f68722f>\"\u001b[0;36m, line \u001b[0;32m2\u001b[0m\n\u001b[0;31m    email = inp('Ingresa tu email: )\u001b[0m\n\u001b[0m                                    ^\u001b[0m\n\u001b[0;31mSyntaxError\u001b[0m\u001b[0;31m:\u001b[0m EOL while scanning string literal\n"
          ]
        }
      ]
    },
    {
      "cell_type": "markdown",
      "source": [
        "## Segundo Programa"
      ],
      "metadata": {
        "id": "bypIgcHlystL"
      }
    },
    {
      "cell_type": "code",
      "source": [
        "\"\"\"\n",
        "Sacar promedio de 3 notas\n",
        "\"\"\"\n",
        "\n",
        "Nota1 = int(input('Ingrese nota 1 : '))\n",
        "Nota2 = int(input('Ingrese nota 2 : '))\n",
        "Nota3 = int(input('Ingrese nota 3 : '))\n",
        "Promedio = (Nota1+Nota2+Nota3)/3\n",
        "print(Promedio)"
      ],
      "metadata": {
        "colab": {
          "base_uri": "https://localhost:8080/"
        },
        "id": "6fOllQbFyjkK",
        "outputId": "b527257b-9f49-493b-becf-c3b230212b36"
      },
      "execution_count": null,
      "outputs": [
        {
          "output_type": "stream",
          "name": "stdout",
          "text": [
            "Ingrese nota 1 : 12\n",
            "Ingrese nota 2 : 11\n",
            "Ingrese nota 3 : 10\n",
            "11.0\n"
          ]
        }
      ]
    },
    {
      "cell_type": "markdown",
      "source": [
        "### Posibles errores"
      ],
      "metadata": {
        "id": "Nnd0LbAV8gDU"
      }
    },
    {
      "cell_type": "code",
      "source": [
        "\n",
        "\"\"\"\n",
        "El input no puede guardar enteros o flotantes, todos son strings. Error de soporte\n",
        "por el tipo de operando. \n",
        "\"\"\"\n",
        "Nota1 = input('Ingrese nota 1 : ')\n",
        "Nota2 = input('Ingrese nota 2 : ')\n",
        "Nota3 = input('Ingrese nota 3 : ')\n",
        "Promedio = (Nota1+Nota2+Nota3)/3\n",
        "print(Promedio)"
      ],
      "metadata": {
        "colab": {
          "base_uri": "https://localhost:8080/",
          "height": 271
        },
        "id": "ZaSYXSmK5TUg",
        "outputId": "c7acdee4-58c8-4ba4-f86d-7c2996ed3ae2"
      },
      "execution_count": null,
      "outputs": [
        {
          "name": "stdout",
          "output_type": "stream",
          "text": [
            "Ingrese nota 1 : 12\n",
            "Ingrese nota 2 : 11\n",
            "Ingrese nota 3 : 10\n"
          ]
        },
        {
          "output_type": "error",
          "ename": "TypeError",
          "evalue": "ignored",
          "traceback": [
            "\u001b[0;31m---------------------------------------------------------------------------\u001b[0m",
            "\u001b[0;31mTypeError\u001b[0m                                 Traceback (most recent call last)",
            "\u001b[0;32m<ipython-input-20-050b67c4560e>\u001b[0m in \u001b[0;36m<module>\u001b[0;34m()\u001b[0m\n\u001b[1;32m      3\u001b[0m \u001b[0mNota2\u001b[0m \u001b[0;34m=\u001b[0m \u001b[0minput\u001b[0m\u001b[0;34m(\u001b[0m\u001b[0;34m'Ingrese nota 2 : '\u001b[0m\u001b[0;34m)\u001b[0m\u001b[0;34m\u001b[0m\u001b[0;34m\u001b[0m\u001b[0m\n\u001b[1;32m      4\u001b[0m \u001b[0mNota3\u001b[0m \u001b[0;34m=\u001b[0m \u001b[0minput\u001b[0m\u001b[0;34m(\u001b[0m\u001b[0;34m'Ingrese nota 3 : '\u001b[0m\u001b[0;34m)\u001b[0m\u001b[0;34m\u001b[0m\u001b[0;34m\u001b[0m\u001b[0m\n\u001b[0;32m----> 5\u001b[0;31m \u001b[0mPromedio\u001b[0m \u001b[0;34m=\u001b[0m \u001b[0;34m(\u001b[0m\u001b[0mNota1\u001b[0m\u001b[0;34m+\u001b[0m\u001b[0mNota2\u001b[0m\u001b[0;34m+\u001b[0m\u001b[0mNota3\u001b[0m\u001b[0;34m)\u001b[0m\u001b[0;34m/\u001b[0m\u001b[0;36m3\u001b[0m\u001b[0;34m\u001b[0m\u001b[0;34m\u001b[0m\u001b[0m\n\u001b[0m\u001b[1;32m      6\u001b[0m \u001b[0mprint\u001b[0m\u001b[0;34m(\u001b[0m\u001b[0mPromedio\u001b[0m\u001b[0;34m)\u001b[0m\u001b[0;34m\u001b[0m\u001b[0;34m\u001b[0m\u001b[0m\n",
            "\u001b[0;31mTypeError\u001b[0m: unsupported operand type(s) for /: 'str' and 'int'"
          ]
        }
      ]
    },
    {
      "cell_type": "markdown",
      "source": [
        "##Tercer programa"
      ],
      "metadata": {
        "id": "Yc_d9wG6FudH"
      }
    },
    {
      "cell_type": "code",
      "source": [
        "\"\"\"\n",
        "Calcular el salario de un empleado\n",
        "Salario = Sueldo_establecido - Dcto(AFP) + Horas_extras*(6.50) - Seguro(CFT) + Bonificacionxventas\n",
        "Dcto(AFP) = 0.11*Sueldo_establecido\n",
        "Seguro(CFT) = 0.05*Sueldo_establecido\n",
        "Bonificacionxventas = Valor que ingresa el usuario\n",
        "\n",
        "\"\"\"\n",
        "#Tú código aquí\n",
        "###########################################\n",
        "\n",
        "\n",
        "\n",
        "\n",
        "\n",
        "\n",
        "\n",
        "\n",
        "\n",
        "\n",
        "\n",
        "\n",
        "\n",
        "#Fin de tu código\n",
        "###################################################"
      ],
      "metadata": {
        "colab": {
          "base_uri": "https://localhost:8080/",
          "height": 52
        },
        "id": "_TyXPCJrFV7l",
        "outputId": "74b13ab6-ba06-48da-ed55-a005f3e07023"
      },
      "execution_count": null,
      "outputs": [
        {
          "output_type": "execute_result",
          "data": {
            "application/vnd.google.colaboratory.intrinsic+json": {
              "type": "string"
            },
            "text/plain": [
              "'\\nCalcular el salario de un empleado\\nSalario = Sueldo_establecido - Dcto(AFP) + Horas_extras*(6.50) - Seguro(CFT) + Bonificacionxventas\\nDcto(AFP) = 0.11*Sueldo_establecido\\nSeguro(CFT) = 0.05*Sueldo_establecido\\nBonificacionxventas = Valor que ingresa el usuario\\n\\n'"
            ]
          },
          "metadata": {},
          "execution_count": 21
        }
      ]
    },
    {
      "cell_type": "markdown",
      "source": [
        "##Cuarto Programa"
      ],
      "metadata": {
        "id": "e3vT_0R3HUFb"
      }
    },
    {
      "cell_type": "code",
      "source": [
        "\"\"\"\n",
        "\n",
        "Un alumno del curso de Python para el análisis de datos, desea poner a prueba sus habilidades de programación calculando \n",
        "su promedio ponderado del ciclo. Además su amigo, le ha dicho que gener un archivo .py para que pueda usarlo también en su PC. \n",
        "\n",
        "Promedio ponderado = (Nota_Práctica1 + Nota_Práctica2 + Nota_Práctica3 + Nota_Práctica4 + 3xNota_Parcial1 + 3xNota_Final)/10\n",
        "\n",
        "\"\"\"\n",
        "\n",
        "#Tú código aquí\n",
        "###########################################\n",
        "\n",
        "\n",
        "\n",
        "\n",
        "\n",
        "\n",
        "\n",
        "\n",
        "\n",
        "\n",
        "\n",
        "\n",
        "\n",
        "#Fin de tu código\n",
        "###################################################"
      ],
      "metadata": {
        "id": "lmZ_viLpGzSA"
      },
      "execution_count": null,
      "outputs": []
    },
    {
      "cell_type": "markdown",
      "source": [
        "## Quinto Problema"
      ],
      "metadata": {
        "id": "LILw7i1vI0zI"
      }
    },
    {
      "cell_type": "code",
      "source": [
        "\"\"\"\n",
        "En su empresa le han solicitado calcular el volumen de un cilindro con radio de 5m y una altura de 20m. \n",
        "Le han pedido que genere un programa en Python que permita calcular el volumen.\n",
        "\"\"\"\n",
        "\n",
        "#Tú código aquí\n",
        "###########################################\n",
        "\n",
        "\n",
        "\n",
        "\n",
        "\n",
        "\n",
        "\n",
        "\n",
        "\n",
        "\n",
        "\n",
        "\n",
        "\n",
        "#Fin de tu código\n",
        "###################################################\n"
      ],
      "metadata": {
        "id": "jYbP_RymI1_P"
      },
      "execution_count": null,
      "outputs": []
    },
    {
      "cell_type": "markdown",
      "source": [
        "## 6to problema"
      ],
      "metadata": {
        "id": "3J5OLUu84hUk"
      }
    },
    {
      "cell_type": "code",
      "source": [
        "\"\"\"\n",
        "Deseas convertir números de la base decimal a la base binaria para un proyecto de\n",
        "la universidad. Crea un código en Python que ayude a automatizar este proceso \n",
        "\"\"\"\n"
      ],
      "metadata": {
        "colab": {
          "base_uri": "https://localhost:8080/",
          "height": 52
        },
        "id": "QQV8tvQf4QYr",
        "outputId": "a74bf04c-a5e3-453c-e512-0727d4e3e0f2"
      },
      "execution_count": null,
      "outputs": [
        {
          "output_type": "execute_result",
          "data": {
            "application/vnd.google.colaboratory.intrinsic+json": {
              "type": "string"
            },
            "text/plain": [
              "'\\nDeseas convertir números de la base decimal a la base binaria para un proyecto de\\nla universidad. Crea un código en Python que ayude a automatizar este proceso \\n'"
            ]
          },
          "metadata": {},
          "execution_count": 1
        }
      ]
    },
    {
      "cell_type": "markdown",
      "source": [
        "##7mo Problema"
      ],
      "metadata": {
        "id": "BegJc08o4kml"
      }
    },
    {
      "cell_type": "code",
      "source": [
        "\"\"\"\n",
        "El número de avogrado es una constante numérica que sirve para representar un mol. Es decir \n",
        "6,022 140 76 ×10²³ partículas, ya sean electrones, moléculas y etc. Usted está ayudando a su primo que estudia\n",
        "Química General 1 y desea calcular las moléculas comprendidas en diferentes cantidades molares y para hacer\n",
        "más rápida su tarea usa Python para automatizar el proceso. \n",
        "\n",
        "Genere aquí el código\n",
        "\n",
        "\"\"\""
      ],
      "metadata": {
        "colab": {
          "base_uri": "https://localhost:8080/",
          "height": 70
        },
        "id": "SXk7uXji4m4V",
        "outputId": "66996cb9-bf01-460a-cb7a-d8836190946a"
      },
      "execution_count": null,
      "outputs": [
        {
          "output_type": "execute_result",
          "data": {
            "application/vnd.google.colaboratory.intrinsic+json": {
              "type": "string"
            },
            "text/plain": [
              "'\\nEl número de avogrado es una constante numérica que sirve para representar un mol. Es decir \\n6,022 140 76 ×10²³ partículas, ya sean electrones, moléculas y etc. Usted está ayudando a su primo que estudia\\nQuímica General 1 y desea calcular las moléculas comprendidas en diferentes cantidades molares y para hacer\\nmás rápida su tarea usa Python para automatizar el proceso. \\n\\nGenere aquí el código\\n\\n'"
            ]
          },
          "metadata": {},
          "execution_count": 2
        }
      ]
    }
  ]
}