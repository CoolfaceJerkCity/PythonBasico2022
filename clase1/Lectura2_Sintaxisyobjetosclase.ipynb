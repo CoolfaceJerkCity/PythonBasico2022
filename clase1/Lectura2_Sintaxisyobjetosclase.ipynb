{
  "nbformat": 4,
  "nbformat_minor": 0,
  "metadata": {
    "colab": {
      "name": "Lectura2_Sintaxisyobjetos.ipynb",
      "provenance": []
    },
    "kernelspec": {
      "name": "python3",
      "display_name": "Python 3"
    },
    "language_info": {
      "name": "python"
    }
  },
  "cells": [
    {
      "cell_type": "markdown",
      "source": [
        "#Objetos básicos\n",
        "\n",
        "<p>\n",
        "En esta clase vamos a trabajar con programas muy sencillos, manejando objetos básicos, de tipo <strong>entero, flotante</strong> y de tipo <strong>cadena de texto.</strong>\n",
        "</p>"
      ],
      "metadata": {
        "id": "j4jZey91to-J"
      }
    },
    {
      "cell_type": "code",
      "source": [
        "\"\"\"\n",
        "Un programa que de un objeto simple\n",
        "En este caso el programa imprimirá un saludo\n",
        "\"\"\"\n"
      ],
      "metadata": {
        "id": "Dy5lJQdmvIuG"
      },
      "execution_count": 1,
      "outputs": []
    },
    {
      "cell_type": "code",
      "source": [
        "#Un programa que se despide"
      ],
      "metadata": {
        "id": "nvEBfkE-IIkU"
      },
      "execution_count": 2,
      "outputs": []
    },
    {
      "cell_type": "markdown",
      "source": [
        "## Primer programa"
      ],
      "metadata": {
        "id": "R8zKjPv7yxeL"
      }
    },
    {
      "cell_type": "code",
      "execution_count": 2,
      "metadata": {
        "id": "nxNncqsNsi9i"
      },
      "outputs": [],
      "source": [
        "\"\"\"\n",
        "Pedirle a un usuario su correo. \n",
        "\"\"\"\n",
        "\n"
      ]
    },
    {
      "cell_type": "markdown",
      "source": [
        "<p>En este primer programa que hemos visto, solamente se pide al usuario un email y se imprime ese valor. El programa no revisa que el email esté bien escrito, ni tampoco revisa que sea un valor numérico,ni que cumpla ningún tipo de condición. Sin embargo, mientras nadie \"engañe\" es perfectamente usable </p>"
      ],
      "metadata": {
        "id": "ZWrKON6PvA8u"
      }
    },
    {
      "cell_type": "markdown",
      "source": [
        "### Posibles Errores"
      ],
      "metadata": {
        "id": "OOafvS7KxFwh"
      }
    },
    {
      "cell_type": "code",
      "source": [
        ""
      ],
      "metadata": {
        "id": "3nC6RlPbuzx0"
      },
      "execution_count": 3,
      "outputs": []
    },
    {
      "cell_type": "code",
      "source": [
        ""
      ],
      "metadata": {
        "id": "-2g3cXRLxHrn"
      },
      "execution_count": 3,
      "outputs": []
    },
    {
      "cell_type": "code",
      "source": [
        ""
      ],
      "metadata": {
        "id": "IuGa2wg2yNKY"
      },
      "execution_count": 3,
      "outputs": []
    },
    {
      "cell_type": "markdown",
      "source": [
        "## Segundo Programa"
      ],
      "metadata": {
        "id": "bypIgcHlystL"
      }
    },
    {
      "cell_type": "code",
      "source": [
        "\"\"\"\n",
        "Sacar promedio de 3 notas\n",
        "\"\"\"\n",
        "\n"
      ],
      "metadata": {
        "id": "6fOllQbFyjkK"
      },
      "execution_count": 3,
      "outputs": []
    },
    {
      "cell_type": "markdown",
      "source": [
        "### Posibles errores"
      ],
      "metadata": {
        "id": "Nnd0LbAV8gDU"
      }
    },
    {
      "cell_type": "code",
      "source": [
        "\n"
      ],
      "metadata": {
        "id": "ZaSYXSmK5TUg"
      },
      "execution_count": 3,
      "outputs": []
    },
    {
      "cell_type": "markdown",
      "source": [
        "##Tercer programa"
      ],
      "metadata": {
        "id": "Yc_d9wG6FudH"
      }
    },
    {
      "cell_type": "code",
      "source": [
        "\"\"\"\n",
        "Calcular el salario de un empleado\n",
        "Salario = Sueldo_establecido - Dcto(AFP) + Horas_extras*(6.50) - Seguro(CFT) + Bonificacionxventas\n",
        "Dcto(AFP) = 0.11*Sueldo_establecido\n",
        "Seguro(CFT) = 0.05*Sueldo_establecido\n",
        "Bonificacionxventas = Valor que ingresa el usuario\n",
        "\n",
        "\"\"\"\n",
        "#Tú código aquí\n",
        "###########################################\n",
        "\n",
        "\n",
        "\n",
        "\n",
        "\n",
        "\n",
        "\n",
        "\n",
        "\n",
        "\n",
        "\n",
        "\n",
        "\n",
        "#Fin de tu código\n",
        "###################################################"
      ],
      "metadata": {
        "colab": {
          "base_uri": "https://localhost:8080/",
          "height": 52
        },
        "id": "_TyXPCJrFV7l",
        "outputId": "74b13ab6-ba06-48da-ed55-a005f3e07023"
      },
      "execution_count": null,
      "outputs": [
        {
          "output_type": "execute_result",
          "data": {
            "application/vnd.google.colaboratory.intrinsic+json": {
              "type": "string"
            },
            "text/plain": [
              "'\\nCalcular el salario de un empleado\\nSalario = Sueldo_establecido - Dcto(AFP) + Horas_extras*(6.50) - Seguro(CFT) + Bonificacionxventas\\nDcto(AFP) = 0.11*Sueldo_establecido\\nSeguro(CFT) = 0.05*Sueldo_establecido\\nBonificacionxventas = Valor que ingresa el usuario\\n\\n'"
            ]
          },
          "metadata": {},
          "execution_count": 21
        }
      ]
    },
    {
      "cell_type": "markdown",
      "source": [
        "##Cuarto Programa"
      ],
      "metadata": {
        "id": "e3vT_0R3HUFb"
      }
    },
    {
      "cell_type": "code",
      "source": [
        "\"\"\"\n",
        "\n",
        "Un alumno del curso de Python para el análisis de datos, desea poner a prueba sus habilidades de programación calculando \n",
        "su promedio ponderado del ciclo. Además su amigo, le ha dicho que gener un archivo .py para que pueda usarlo también en su PC. \n",
        "\n",
        "Promedio ponderado = (Nota_Práctica1 + Nota_Práctica2 + Nota_Práctica3 + Nota_Práctica4 + 3xNota_Parcial1 + 3xNota_Final)/10\n",
        "\n",
        "\"\"\"\n",
        "\n",
        "#Tú código aquí\n",
        "###########################################\n",
        "\n",
        "\n",
        "\n",
        "\n",
        "\n",
        "\n",
        "\n",
        "\n",
        "\n",
        "\n",
        "\n",
        "\n",
        "\n",
        "#Fin de tu código\n",
        "###################################################"
      ],
      "metadata": {
        "id": "lmZ_viLpGzSA"
      },
      "execution_count": null,
      "outputs": []
    },
    {
      "cell_type": "markdown",
      "source": [
        "## Quinto Problema"
      ],
      "metadata": {
        "id": "LILw7i1vI0zI"
      }
    },
    {
      "cell_type": "code",
      "source": [
        "\"\"\"\n",
        "En su empresa le han solicitado calcular el volumen de un cilindro con radio de 5m y una altura de 20m. \n",
        "Le han pedido que genere un programa en Python que permita calcular el volumen.\n",
        "\"\"\"\n",
        "\n",
        "#Tú código aquí\n",
        "###########################################\n",
        "\n",
        "\n",
        "\n",
        "\n",
        "\n",
        "\n",
        "\n",
        "\n",
        "\n",
        "\n",
        "\n",
        "\n",
        "\n",
        "#Fin de tu código\n",
        "###################################################\n"
      ],
      "metadata": {
        "id": "jYbP_RymI1_P"
      },
      "execution_count": null,
      "outputs": []
    },
    {
      "cell_type": "markdown",
      "source": [
        "## 6to problema"
      ],
      "metadata": {
        "id": "3J5OLUu84hUk"
      }
    },
    {
      "cell_type": "code",
      "source": [
        "\"\"\"\n",
        "Deseas convertir números de la base decimal a la base binaria para un proyecto de\n",
        "la universidad. Crea un código en Python que ayude a automatizar este proceso \n",
        "\"\"\"\n"
      ],
      "metadata": {
        "colab": {
          "base_uri": "https://localhost:8080/",
          "height": 52
        },
        "id": "QQV8tvQf4QYr",
        "outputId": "a74bf04c-a5e3-453c-e512-0727d4e3e0f2"
      },
      "execution_count": null,
      "outputs": [
        {
          "output_type": "execute_result",
          "data": {
            "application/vnd.google.colaboratory.intrinsic+json": {
              "type": "string"
            },
            "text/plain": [
              "'\\nDeseas convertir números de la base decimal a la base binaria para un proyecto de\\nla universidad. Crea un código en Python que ayude a automatizar este proceso \\n'"
            ]
          },
          "metadata": {},
          "execution_count": 1
        }
      ]
    },
    {
      "cell_type": "markdown",
      "source": [
        "##7mo Problema"
      ],
      "metadata": {
        "id": "BegJc08o4kml"
      }
    },
    {
      "cell_type": "code",
      "source": [
        "\"\"\"\n",
        "El número de avogrado es una constante numérica que sirve para representar un mol. Es decir \n",
        "6,022 140 76 ×10²³ partículas, ya sean electrones, moléculas y etc. Usted está ayudando a su primo que estudia\n",
        "Química General 1 y desea calcular las moléculas comprendidas en diferentes cantidades molares y para hacer\n",
        "más rápida su tarea usa Python para automatizar el proceso. \n",
        "\n",
        "Genere aquí el código\n",
        "\n",
        "\"\"\""
      ],
      "metadata": {
        "colab": {
          "base_uri": "https://localhost:8080/",
          "height": 70
        },
        "id": "SXk7uXji4m4V",
        "outputId": "66996cb9-bf01-460a-cb7a-d8836190946a"
      },
      "execution_count": null,
      "outputs": [
        {
          "output_type": "execute_result",
          "data": {
            "application/vnd.google.colaboratory.intrinsic+json": {
              "type": "string"
            },
            "text/plain": [
              "'\\nEl número de avogrado es una constante numérica que sirve para representar un mol. Es decir \\n6,022 140 76 ×10²³ partículas, ya sean electrones, moléculas y etc. Usted está ayudando a su primo que estudia\\nQuímica General 1 y desea calcular las moléculas comprendidas en diferentes cantidades molares y para hacer\\nmás rápida su tarea usa Python para automatizar el proceso. \\n\\nGenere aquí el código\\n\\n'"
            ]
          },
          "metadata": {},
          "execution_count": 2
        }
      ]
    }
  ]
}