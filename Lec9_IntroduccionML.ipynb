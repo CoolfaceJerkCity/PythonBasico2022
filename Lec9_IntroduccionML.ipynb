{
  "nbformat": 4,
  "nbformat_minor": 0,
  "metadata": {
    "colab": {
      "name": "Lec9_IntroduccionML.ipynb",
      "provenance": [],
      "authorship_tag": "ABX9TyPzTI79+g9d2o1W5B11wf6G",
      "include_colab_link": true
    },
    "kernelspec": {
      "name": "python3",
      "display_name": "Python 3"
    },
    "language_info": {
      "name": "python"
    }
  },
  "cells": [
    {
      "cell_type": "markdown",
      "metadata": {
        "id": "view-in-github",
        "colab_type": "text"
      },
      "source": [
        "<a href=\"https://colab.research.google.com/github/pedrorotta/PythonBasico2022/blob/main/Lec9_IntroduccionML.ipynb\" target=\"_parent\"><img src=\"https://colab.research.google.com/assets/colab-badge.svg\" alt=\"Open In Colab\"/></a>"
      ]
    },
    {
      "cell_type": "markdown",
      "source": [
        "## Problema 1"
      ],
      "metadata": {
        "id": "gHrt5QVcZJ96"
      }
    },
    {
      "cell_type": "code",
      "execution_count": 3,
      "metadata": {
        "id": "s3xkxiGZdwif"
      },
      "outputs": [],
      "source": [
        "\"\"\"\n",
        "Encontrar para el dataset propuesto, un modelo de Machine learning para predecir el precio de una casa\n",
        "tomando en cuenta su área.\n",
        "\"\"\""
      ]
    },
    {
      "cell_type": "code",
      "source": [
        "\"\"\"\n",
        "De la data de prueba de Seaborn (https://github.com/mwaskom/seaborn-data) de car crashes, hacer un modelo de ML de regresión lineal para estimar cuántos \n",
        "accidentes pueden suceder, tomando en cuenta el porcentaje de alchol. \n",
        "\"\"\""
      ],
      "metadata": {
        "colab": {
          "base_uri": "https://localhost:8080/",
          "height": 54
        },
        "id": "vr5iAQVZe6oT",
        "outputId": "f60d30bb-efbc-41e2-8fe5-a1a0f644fbb0"
      },
      "execution_count": 5,
      "outputs": [
        {
          "output_type": "execute_result",
          "data": {
            "application/vnd.google.colaboratory.intrinsic+json": {
              "type": "string"
            },
            "text/plain": [
              "'\\nDe la data de prueba de Seaborn (https://github.com/mwaskom/seaborn-data) de car crashes, hacer un modelo de ML de regresión lineal para estimar cuántos \\naccidentes pueden suceder, tomando en cuenta el porcentaje de alchol. \\n'"
            ]
          },
          "metadata": {},
          "execution_count": 5
        }
      ]
    }
  ]
}