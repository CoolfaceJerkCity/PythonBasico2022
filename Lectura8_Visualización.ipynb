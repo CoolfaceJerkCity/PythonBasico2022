{
  "nbformat": 4,
  "nbformat_minor": 0,
  "metadata": {
    "colab": {
      "name": "Lectura8_Visualización.ipynb",
      "provenance": [],
      "collapsed_sections": [],
      "authorship_tag": "ABX9TyM8s2K3O1t0MbIsmPVJNlN6",
      "include_colab_link": true
    },
    "kernelspec": {
      "name": "python3",
      "display_name": "Python 3"
    },
    "language_info": {
      "name": "python"
    }
  },
  "cells": [
    {
      "cell_type": "markdown",
      "metadata": {
        "id": "view-in-github",
        "colab_type": "text"
      },
      "source": [
        "<a href=\"https://colab.research.google.com/github/pedrorotta/PythonBasico2022/blob/main/Lectura8_Visualizaci%C3%B3n.ipynb\" target=\"_parent\"><img src=\"https://colab.research.google.com/assets/colab-badge.svg\" alt=\"Open In Colab\"/></a>"
      ]
    },
    {
      "cell_type": "markdown",
      "source": [
        "## Problema 1"
      ],
      "metadata": {
        "id": "H_pQRapq6EaV"
      }
    },
    {
      "cell_type": "code",
      "source": [
        "# Crea un gráfico de dispersión con el seno de un ángulo"
      ],
      "metadata": {
        "id": "BML6kWSs6Ghs"
      },
      "execution_count": 4,
      "outputs": []
    },
    {
      "cell_type": "markdown",
      "source": [
        "## Problema2"
      ],
      "metadata": {
        "id": "a_xYpKmgOIYg"
      }
    },
    {
      "cell_type": "code",
      "source": [
        "# Obtén una data de dispersión múltiple para analizar el excel de casas"
      ],
      "metadata": {
        "id": "I4U96RD-OKFY"
      },
      "execution_count": 41,
      "outputs": []
    },
    {
      "cell_type": "markdown",
      "source": [
        "## Problema 3"
      ],
      "metadata": {
        "id": "e-dW3L8tA_kH"
      }
    },
    {
      "cell_type": "code",
      "source": [
        "# Hacer un histograma para el precio de casas"
      ],
      "metadata": {
        "id": "K-4MEfVLbmYa"
      },
      "execution_count": null,
      "outputs": []
    },
    {
      "cell_type": "markdown",
      "source": [
        "## Problema 4"
      ],
      "metadata": {
        "id": "XUT6ci8BCUjD"
      }
    },
    {
      "cell_type": "code",
      "source": [
        "# Definir texto para el histograma\n",
        "\n"
      ],
      "metadata": {
        "id": "wGEiokC86RHv"
      },
      "execution_count": 42,
      "outputs": []
    },
    {
      "cell_type": "markdown",
      "source": [
        "## Problema 5"
      ],
      "metadata": {
        "id": "NndpNG_xKLJe"
      }
    },
    {
      "cell_type": "code",
      "source": [
        "#En una función senoidal señala su máximo valor (de -pi a pi): \n",
        "\n"
      ],
      "metadata": {
        "id": "lzE99POeDn69"
      },
      "execution_count": 43,
      "outputs": []
    },
    {
      "cell_type": "markdown",
      "source": [
        "## Problema 6"
      ],
      "metadata": {
        "id": "ESRzw6DNRDgh"
      }
    },
    {
      "cell_type": "code",
      "source": [
        "\"\"\"\n",
        "Resuelve un scatter plot para la data de tips, \n",
        "en donde incluyas, diferenciación por fumadores y no fumadores y diferenciación\n",
        "por tamaño mediante size. \n",
        "\"\"\"\n"
      ],
      "metadata": {
        "colab": {
          "base_uri": "https://localhost:8080/",
          "height": 52
        },
        "id": "loQ3o8XrK1mD",
        "outputId": "536fd6ed-a74a-4a91-e851-96293e5e3580"
      },
      "execution_count": 44,
      "outputs": [
        {
          "output_type": "execute_result",
          "data": {
            "application/vnd.google.colaboratory.intrinsic+json": {
              "type": "string"
            },
            "text/plain": [
              "'\\nResuelve un scatter plot para la data de tips, \\nen donde incluyas, diferenciación por fumadores y no fumadores y diferenciación\\npor tamaño mediante size. \\n'"
            ]
          },
          "metadata": {},
          "execution_count": 44
        }
      ]
    },
    {
      "cell_type": "markdown",
      "source": [
        "## Problema 7"
      ],
      "metadata": {
        "id": "Bk0DjZmQV0vv"
      }
    },
    {
      "cell_type": "code",
      "source": [
        "\"\"\"\n",
        "Grafica el valor medio de análisis para el dataset de fmri\n",
        "\"\"\"\n"
      ],
      "metadata": {
        "id": "wTufiMPbRcH7"
      },
      "execution_count": 44,
      "outputs": []
    },
    {
      "cell_type": "code",
      "source": [
        "\"\"\"\n",
        "Hacer un gráfico de dispersión entre el valor de m2 vs cuartos para la dataset propuesta\n",
        "\"\"\""
      ],
      "metadata": {
        "colab": {
          "base_uri": "https://localhost:8080/",
          "height": 35
        },
        "id": "xZ6Ap0uiVuBV",
        "outputId": "a09d4be8-98c8-47e4-c516-0cbfb48ccebb"
      },
      "execution_count": 33,
      "outputs": [
        {
          "output_type": "execute_result",
          "data": {
            "application/vnd.google.colaboratory.intrinsic+json": {
              "type": "string"
            },
            "text/plain": [
              "'\\nHacer un gráfico de dispersión entre el valor de m2 vs cuartos para la dataset propuesta\\n'"
            ]
          },
          "metadata": {},
          "execution_count": 33
        }
      ]
    },
    {
      "cell_type": "code",
      "source": [
        "\"\"\"\n",
        "Hacer un gráfico de dispersión múltiple para el valor de m2 vs cuartos, donde el tamaño varíe por el precio\n",
        "y e color por el número de baños\n",
        "\"\"\""
      ],
      "metadata": {
        "colab": {
          "base_uri": "https://localhost:8080/",
          "height": 52
        },
        "id": "K1WbiAODXXSC",
        "outputId": "30911503-7835-4b45-b50d-09f75aebc66b"
      },
      "execution_count": 34,
      "outputs": [
        {
          "output_type": "execute_result",
          "data": {
            "application/vnd.google.colaboratory.intrinsic+json": {
              "type": "string"
            },
            "text/plain": [
              "'\\nHacer un gráfico de dispersión múltiplo para el valor de m2 vs cuartos, donde el tamaño varíe por el precio\\ny e color por el número de baños\\n'"
            ]
          },
          "metadata": {},
          "execution_count": 34
        }
      ]
    },
    {
      "cell_type": "code",
      "source": [
        "\"\"\"\n",
        "Del dataset de seaborn tips, genera un histograma para la columna total bill\n",
        "con bins automáticos\n",
        "\"\"\""
      ],
      "metadata": {
        "colab": {
          "base_uri": "https://localhost:8080/",
          "height": 35
        },
        "id": "jO5HN4fvXjMZ",
        "outputId": "424f7e61-5cbc-4c07-da6d-7056cd0942f4"
      },
      "execution_count": 35,
      "outputs": [
        {
          "output_type": "execute_result",
          "data": {
            "application/vnd.google.colaboratory.intrinsic+json": {
              "type": "string"
            },
            "text/plain": [
              "'\\nDel dataset de seaborn tips, genera un histograma para la columna total bill\\ncon bins automáticos\\n'"
            ]
          },
          "metadata": {},
          "execution_count": 35
        }
      ]
    },
    {
      "cell_type": "code",
      "source": [
        "\"\"\"\n",
        "Del dataset de seaborn tips, genera un histograma para la columna total bill\n",
        "con 30 bins y comente las diferencias\n",
        "\"\"\""
      ],
      "metadata": {
        "colab": {
          "base_uri": "https://localhost:8080/",
          "height": 52
        },
        "id": "nSt4vsR0X_qk",
        "outputId": "bb38c2f9-decc-4955-e541-e92ec7f81991"
      },
      "execution_count": 36,
      "outputs": [
        {
          "output_type": "execute_result",
          "data": {
            "application/vnd.google.colaboratory.intrinsic+json": {
              "type": "string"
            },
            "text/plain": [
              "'\\nDel dataset de seaborn tips, genera un histograma para la columna total bill\\ncon 30 bins y comente las diferencias\\n'"
            ]
          },
          "metadata": {},
          "execution_count": 36
        }
      ]
    },
    {
      "cell_type": "code",
      "source": [
        "\"\"\"\n",
        "Del dataset seaborn tips, genere una gráfica de dispersión usando total bill y tip\n",
        "\"\"\""
      ],
      "metadata": {
        "id": "cmHRfmfAYVkh"
      },
      "execution_count": null,
      "outputs": []
    },
    {
      "cell_type": "code",
      "source": [
        "\"\"\"\n",
        "Del dataset seaborn tips, genere una gráfica de dispersión usando total bill \n",
        "y tip usando sex como diferenciador\n",
        "\"\"\""
      ],
      "metadata": {
        "colab": {
          "base_uri": "https://localhost:8080/",
          "height": 52
        },
        "id": "E6gwuVyoYehV",
        "outputId": "5922d380-4ba2-44d2-a7b1-8c49d9115a4b"
      },
      "execution_count": 37,
      "outputs": [
        {
          "output_type": "execute_result",
          "data": {
            "application/vnd.google.colaboratory.intrinsic+json": {
              "type": "string"
            },
            "text/plain": [
              "'\\nDel dataset seaborn tips, genere una gráfica de dispersión usando total bill y tip usando sex como diferenciador\\n'"
            ]
          },
          "metadata": {},
          "execution_count": 37
        }
      ]
    },
    {
      "cell_type": "code",
      "source": [
        "\"\"\"\n",
        "Del dataset de seaborn pinguins cree una gráfica de media sombreada\n",
        "para \tflipper_length_mm\n",
        "\"\"\""
      ],
      "metadata": {
        "colab": {
          "base_uri": "https://localhost:8080/",
          "height": 35
        },
        "id": "pDr_hkP3YDO6",
        "outputId": "2f469541-5de6-4fca-ce09-95db30ec5a78"
      },
      "execution_count": 39,
      "outputs": [
        {
          "output_type": "execute_result",
          "data": {
            "application/vnd.google.colaboratory.intrinsic+json": {
              "type": "string"
            },
            "text/plain": [
              "'\\nDel dataset de seaborn pinguins cree una gráfica de media sombreada\\npara \\tflipper_length_mm\\n'"
            ]
          },
          "metadata": {},
          "execution_count": 39
        }
      ]
    },
    {
      "cell_type": "code",
      "source": [
        "\"\"\"\n",
        "Del dataset planets de seaborn cree un grafico de distribución para orbital_period y para number. \n",
        "compare resultados.\n",
        "\"\"\""
      ],
      "metadata": {
        "colab": {
          "base_uri": "https://localhost:8080/",
          "height": 52
        },
        "id": "2cPWf9CzYmvY",
        "outputId": "d043117a-d883-436f-f2db-f7421ff2d5f3"
      },
      "execution_count": 40,
      "outputs": [
        {
          "output_type": "execute_result",
          "data": {
            "application/vnd.google.colaboratory.intrinsic+json": {
              "type": "string"
            },
            "text/plain": [
              "'\\nDel dataset planets de seaborn cree un grafico de distribución para orbital_period y para number. \\ncompare resultados.\\n'"
            ]
          },
          "metadata": {},
          "execution_count": 40
        }
      ]
    }
  ]
}