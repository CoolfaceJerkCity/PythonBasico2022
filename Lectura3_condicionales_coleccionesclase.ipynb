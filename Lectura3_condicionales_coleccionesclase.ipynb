{
  "nbformat": 4,
  "nbformat_minor": 0,
  "metadata": {
    "colab": {
      "name": " Lectura3_condicionales_coleccionesclase.ipynb",
      "provenance": [],
      "authorship_tag": "ABX9TyN5/ZXLDOqnOWleFI9XVHRn",
      "include_colab_link": true
    },
    "kernelspec": {
      "name": "python3",
      "display_name": "Python 3"
    },
    "language_info": {
      "name": "python"
    }
  },
  "cells": [
    {
      "cell_type": "markdown",
      "metadata": {
        "id": "view-in-github",
        "colab_type": "text"
      },
      "source": [
        "<a href=\"https://colab.research.google.com/github/pedrorotta/PythonBasico2022/blob/main/Lectura3_condicionales_coleccionesclase.ipynb\" target=\"_parent\"><img src=\"https://colab.research.google.com/assets/colab-badge.svg\" alt=\"Open In Colab\"/></a>"
      ]
    },
    {
      "cell_type": "markdown",
      "source": [
        "#Flujo y Colecciones\n",
        "\n",
        "<p>En esta clase vamos a revisar los fundamentos básicos de un algoritmo y las colecciones de instancias.</p>"
      ],
      "metadata": {
        "id": "5VdmLbZVNM_E"
      }
    },
    {
      "cell_type": "markdown",
      "source": [
        "## Primer programa\n",
        "\n"
      ],
      "metadata": {
        "id": "UdIRO8cxNRlT"
      }
    },
    {
      "cell_type": "code",
      "source": [
        "\"\"\"\n",
        "Un programa que salude solo si el usario lo decide\n",
        "\"\"\""
      ],
      "metadata": {
        "id": "KzRRt1nfNPsW",
        "colab": {
          "base_uri": "https://localhost:8080/",
          "height": 35
        },
        "outputId": "fedff91a-3e41-4154-f244-606f8748b808"
      },
      "execution_count": 1,
      "outputs": [
        {
          "output_type": "execute_result",
          "data": {
            "application/vnd.google.colaboratory.intrinsic+json": {
              "type": "string"
            },
            "text/plain": [
              "'\\nUn programa que salude solo si el usario lo decide\\n'"
            ]
          },
          "metadata": {},
          "execution_count": 1
        }
      ]
    },
    {
      "cell_type": "markdown",
      "source": [
        "### Posibles Errores"
      ],
      "metadata": {
        "id": "py5XpZWr2L6S"
      }
    },
    {
      "cell_type": "code",
      "source": [
        "\"\"\"\n",
        "Error de indexación\n",
        "\"\"\"\n",
        "\n",
        " "
      ],
      "metadata": {
        "colab": {
          "base_uri": "https://localhost:8080/",
          "height": 35
        },
        "id": "FAhTvt-22LaB",
        "outputId": "38f5a65c-ca0c-4d89-961b-296f1dd0c9a5"
      },
      "execution_count": 2,
      "outputs": [
        {
          "output_type": "execute_result",
          "data": {
            "application/vnd.google.colaboratory.intrinsic+json": {
              "type": "string"
            },
            "text/plain": [
              "'\\nError de indexación\\n'"
            ]
          },
          "metadata": {},
          "execution_count": 2
        }
      ]
    },
    {
      "cell_type": "markdown",
      "source": [
        "##Segundo Programa"
      ],
      "metadata": {
        "id": "RI2bVDcq2X_I"
      }
    },
    {
      "cell_type": "code",
      "source": [
        "\"\"\"\n",
        "Definir un programa que pregunte al usuario si desea ingresar su email\n",
        "o su número de celular\n",
        "\"\"\"\n"
      ],
      "metadata": {
        "colab": {
          "base_uri": "https://localhost:8080/",
          "height": 35
        },
        "id": "q3-BudsxaQCc",
        "outputId": "beb640bb-f347-4929-ea85-7f473b368b7f"
      },
      "execution_count": 3,
      "outputs": [
        {
          "output_type": "execute_result",
          "data": {
            "application/vnd.google.colaboratory.intrinsic+json": {
              "type": "string"
            },
            "text/plain": [
              "'\\nDefinir un programa que pregunte al usuario si desea ingresar su email\\no su número de celular\\n'"
            ]
          },
          "metadata": {},
          "execution_count": 3
        }
      ]
    },
    {
      "cell_type": "markdown",
      "source": [
        "### Posibles Errores"
      ],
      "metadata": {
        "id": "SXmMvv6nfItV"
      }
    },
    {
      "cell_type": "code",
      "source": [
        "\"\"\"\n",
        "Error en la indexación\n",
        "\"\"\"\n",
        "\n"
      ],
      "metadata": {
        "colab": {
          "base_uri": "https://localhost:8080/",
          "height": 35
        },
        "id": "WNdVu1a5fMUS",
        "outputId": "78003dfa-82f5-48f2-c83d-00851edc5d85"
      },
      "execution_count": 4,
      "outputs": [
        {
          "output_type": "execute_result",
          "data": {
            "application/vnd.google.colaboratory.intrinsic+json": {
              "type": "string"
            },
            "text/plain": [
              "'\\nError en la indexación\\n'"
            ]
          },
          "metadata": {},
          "execution_count": 4
        }
      ]
    },
    {
      "cell_type": "markdown",
      "source": [
        "##Tercer Problema"
      ],
      "metadata": {
        "id": "IQ4_mq0nl2l0"
      }
    },
    {
      "cell_type": "code",
      "source": [
        "#Hacer más niveles dentro del programa\n",
        "\n"
      ],
      "metadata": {
        "id": "dpPeqnaql7Wf"
      },
      "execution_count": 5,
      "outputs": []
    },
    {
      "cell_type": "markdown",
      "source": [
        "## 4to Problema"
      ],
      "metadata": {
        "id": "4enJXqxqg2lW"
      }
    },
    {
      "cell_type": "code",
      "source": [
        "\"\"\"\n",
        "Usted decide hacer un programa para almacenenar hasta 4 celulares. El primero es obligatorio y los otros no. \n",
        "\"\"\"\n"
      ],
      "metadata": {
        "id": "XgmaxvmtmHas",
        "colab": {
          "base_uri": "https://localhost:8080/",
          "height": 35
        },
        "outputId": "bb19a360-9dcf-4359-eca1-eebbbb9f46e3"
      },
      "execution_count": 6,
      "outputs": [
        {
          "output_type": "execute_result",
          "data": {
            "application/vnd.google.colaboratory.intrinsic+json": {
              "type": "string"
            },
            "text/plain": [
              "'\\nUsted decide hacer un programa para almacenenar hasta 4 celulares. El primero es obligatorio y los otros no. \\n'"
            ]
          },
          "metadata": {},
          "execution_count": 6
        }
      ]
    },
    {
      "cell_type": "code",
      "source": [
        "\"\"\"\n",
        "Para elegir el primer celular\n",
        "\"\"\"\n"
      ],
      "metadata": {
        "colab": {
          "base_uri": "https://localhost:8080/",
          "height": 35
        },
        "id": "0gRNzN0b-A7G",
        "outputId": "2e32f7d7-5bc0-4f27-e225-65fdad6ab4ab"
      },
      "execution_count": 7,
      "outputs": [
        {
          "output_type": "execute_result",
          "data": {
            "application/vnd.google.colaboratory.intrinsic+json": {
              "type": "string"
            },
            "text/plain": [
              "'\\nPara elegir el primer celular\\n'"
            ]
          },
          "metadata": {},
          "execution_count": 7
        }
      ]
    },
    {
      "cell_type": "code",
      "source": [
        "\"\"\"\n",
        "Para elegir los 3 primeros\n",
        "\"\"\"\n"
      ],
      "metadata": {
        "colab": {
          "base_uri": "https://localhost:8080/",
          "height": 35
        },
        "id": "s5KIbG1g_hDx",
        "outputId": "7b44a120-c176-44f4-e4fe-249e0f21221d"
      },
      "execution_count": 8,
      "outputs": [
        {
          "output_type": "execute_result",
          "data": {
            "application/vnd.google.colaboratory.intrinsic+json": {
              "type": "string"
            },
            "text/plain": [
              "'\\nPara elegir los 3 primeros\\n'"
            ]
          },
          "metadata": {},
          "execution_count": 8
        }
      ]
    },
    {
      "cell_type": "code",
      "source": [
        "\"\"\"\n",
        "Para elegir el 2 y el 3ero\n",
        "\"\"\"\n"
      ],
      "metadata": {
        "colab": {
          "base_uri": "https://localhost:8080/",
          "height": 35
        },
        "id": "M7SFeNwLFURS",
        "outputId": "8fbbfebd-17c3-42b6-88f0-7b8f0bb44014"
      },
      "execution_count": 9,
      "outputs": [
        {
          "output_type": "execute_result",
          "data": {
            "application/vnd.google.colaboratory.intrinsic+json": {
              "type": "string"
            },
            "text/plain": [
              "'\\nPara elegir el 2 y el 3ero\\n'"
            ]
          },
          "metadata": {},
          "execution_count": 9
        }
      ]
    },
    {
      "cell_type": "code",
      "source": [
        "\"\"\"\n",
        "Para elegir del 2 al 4to\n",
        "\"\"\"\n"
      ],
      "metadata": {
        "colab": {
          "base_uri": "https://localhost:8080/",
          "height": 35
        },
        "id": "OdvdWqq6FbtK",
        "outputId": "491d1bfe-a549-4fc6-807b-d48b4fe689f8"
      },
      "execution_count": 10,
      "outputs": [
        {
          "output_type": "execute_result",
          "data": {
            "application/vnd.google.colaboratory.intrinsic+json": {
              "type": "string"
            },
            "text/plain": [
              "'\\nPara elegir del 2 al 4to\\n'"
            ]
          },
          "metadata": {},
          "execution_count": 10
        }
      ]
    },
    {
      "cell_type": "code",
      "source": [
        ""
      ],
      "metadata": {
        "id": "TG4iE5CsF5He"
      },
      "execution_count": 10,
      "outputs": []
    },
    {
      "cell_type": "code",
      "source": [
        ""
      ],
      "metadata": {
        "id": "hDHB3F-eICgH"
      },
      "execution_count": 10,
      "outputs": []
    },
    {
      "cell_type": "markdown",
      "source": [
        "## Problema 5"
      ],
      "metadata": {
        "id": "9adeCCD4VgLL"
      }
    },
    {
      "cell_type": "code",
      "source": [
        "\"\"\"\n",
        "Ordenar en un diccionario a los usuarios de una plataforma donde guarden sus películas favoritas. El programa debe permitir elegir un usuario para ver sus películas\n",
        "favoritas\n",
        "\"\"\"\n",
        "\n"
      ],
      "metadata": {
        "colab": {
          "base_uri": "https://localhost:8080/",
          "height": 35
        },
        "id": "lfxq_CpFI5-b",
        "outputId": "a3699e9f-75b5-4700-ea59-1458a4e12462"
      },
      "execution_count": 11,
      "outputs": [
        {
          "output_type": "execute_result",
          "data": {
            "application/vnd.google.colaboratory.intrinsic+json": {
              "type": "string"
            },
            "text/plain": [
              "'\\nOrdenar en un diccionario a los usuarios de una plataforma donde guarden sus películas favoritas. El programa debe permitir elegir un usuario para ver sus películas\\nfavoritas\\n'"
            ]
          },
          "metadata": {},
          "execution_count": 11
        }
      ]
    },
    {
      "cell_type": "markdown",
      "source": [
        "##Problema 6"
      ],
      "metadata": {
        "id": "PoXTE7fWb3Ce"
      }
    },
    {
      "cell_type": "code",
      "source": [
        "\"\"\"\n",
        "Desea devolver la suma y la resta de dos numeros elegidos por usted, en un resultado invariante. Por lo que elije una tupla\n",
        "\"\"\"\n"
      ],
      "metadata": {
        "colab": {
          "base_uri": "https://localhost:8080/",
          "height": 35
        },
        "id": "IWFIGah2b6so",
        "outputId": "3d0ce4eb-2459-4ec2-bf6f-b59076864d25"
      },
      "execution_count": 12,
      "outputs": [
        {
          "output_type": "execute_result",
          "data": {
            "application/vnd.google.colaboratory.intrinsic+json": {
              "type": "string"
            },
            "text/plain": [
              "'\\nDesea devolver la suma y la resta de dos numeros elegidos por usted, en un resultado invariante. Por lo que elije una tupla\\n'"
            ]
          },
          "metadata": {},
          "execution_count": 12
        }
      ]
    },
    {
      "cell_type": "code",
      "source": [
        ""
      ],
      "metadata": {
        "id": "TilcJhhYdxL_"
      },
      "execution_count": 12,
      "outputs": []
    },
    {
      "cell_type": "markdown",
      "source": [
        "## Problema 7"
      ],
      "metadata": {
        "id": "heJOZMxwhLiE"
      }
    },
    {
      "cell_type": "code",
      "source": [
        "\"\"\"\n",
        "Desea usar pyhton para hacer una pequeña calculadora que permita hacer las 4 operaciones básicas a 2 números flotantes. \n",
        "pedir los dos números y elegir si desea hacer suma, resta, multiplicación y división. El programa solo puede hacer una operación a la vez\n",
        "\"\"\""
      ],
      "metadata": {
        "colab": {
          "base_uri": "https://localhost:8080/",
          "height": 52
        },
        "id": "-jIMpj1ihNRg",
        "outputId": "2981a459-d64e-470f-f120-94c78910f9db"
      },
      "execution_count": null,
      "outputs": [
        {
          "output_type": "execute_result",
          "data": {
            "application/vnd.google.colaboratory.intrinsic+json": {
              "type": "string"
            },
            "text/plain": [
              "'\\nDesea usar pyhton para hacer una pequeña calculadora que permita hacer las 4 operaciones básicas a 2 números flotantes. \\npedir los dos números y elegir si desea hacer suma, resta, multiplicación y división. El programa solo puede hacer una operación a la vez\\n'"
            ]
          },
          "metadata": {},
          "execution_count": 66
        }
      ]
    },
    {
      "cell_type": "markdown",
      "source": [
        "##Problema 8"
      ],
      "metadata": {
        "id": "OKNq9rWkqbhN"
      }
    },
    {
      "cell_type": "code",
      "source": [
        "\"\"\"\n",
        "Desea hacer un programa que imprima el nombre y/o la edad de una persona\n",
        "1. Solicita al usuario qué desea imprimir, si el nombre o la edad\n",
        "2. Almacena el valor en una variable\n",
        "3. Devuelve el valor \n",
        "\"\"\""
      ],
      "metadata": {
        "colab": {
          "base_uri": "https://localhost:8080/",
          "height": 52
        },
        "id": "pLfTfiMcuWCc",
        "outputId": "6173431e-2fc1-4584-c563-9fa010fce337"
      },
      "execution_count": null,
      "outputs": [
        {
          "output_type": "execute_result",
          "data": {
            "application/vnd.google.colaboratory.intrinsic+json": {
              "type": "string"
            },
            "text/plain": [
              "'\\nDesea hacer un programa que imprima el nombre y/o la edad de una persona\\n1. Solicita al usuario qué desea imprimir, si el nombre o la edad\\n2. Almacena el valor en una variable\\n3. Devuelve el valor \\n'"
            ]
          },
          "metadata": {},
          "execution_count": 76
        }
      ]
    },
    {
      "cell_type": "markdown",
      "source": [
        "##Problema 9"
      ],
      "metadata": {
        "id": "e8lvDs1tuq4j"
      }
    },
    {
      "cell_type": "markdown",
      "source": [
        ""
      ],
      "metadata": {
        "id": "vR7CmIf0vpaQ"
      }
    },
    {
      "cell_type": "code",
      "source": [
        "\"\"\"\n",
        "El juego de pom, es el siguiente. Usted pide a un usuario que diga un número. \n",
        "  Si el número es múltiplo de 7 en la pantalla se imprime el número\n",
        "  Si el número es múltiplo de 7 y de 3  en la pantalla se imprime numero curioso\n",
        "  Si el número es múltiplo de 5, 7 y de 3  en la pantalla se imprime pom\n",
        "\n",
        "Nota : el comando % devuelve el residuo de una operación de división. Por ejemplo 4%2 == 0 . \n",
        "\"\"\"\n",
        "\n",
        "print(4%2)"
      ],
      "metadata": {
        "colab": {
          "base_uri": "https://localhost:8080/"
        },
        "id": "NuAwreM8u4j5",
        "outputId": "fbea4457-70d1-44f5-cd5f-070c39b706f8"
      },
      "execution_count": null,
      "outputs": [
        {
          "output_type": "stream",
          "name": "stdout",
          "text": [
            "0\n"
          ]
        }
      ]
    },
    {
      "cell_type": "markdown",
      "source": [
        "##Problema 10"
      ],
      "metadata": {
        "id": "iqFlyWFtwRbi"
      }
    },
    {
      "cell_type": "code",
      "source": [
        "\"\"\"\n",
        "Parte de un proceso financiero es preguntarle a las personas si desean el número de un asesor\n",
        "o si desean salir del programa. \n",
        "Guarde en una variable la opción que elija el usuario\n",
        "Imprima, si así se desea un número de teléfono con un mensaje diciendo que es el número del asesor \n",
        "Imprima, si así se desea un mensaje de despedida del sistema\n",
        "\"\"\""
      ],
      "metadata": {
        "id": "zAM4YMpbvw0J"
      },
      "execution_count": null,
      "outputs": []
    },
    {
      "cell_type": "markdown",
      "source": [
        "## Problema 11"
      ],
      "metadata": {
        "id": "kfSKMX-8vf44"
      }
    },
    {
      "cell_type": "code",
      "source": [
        "\"\"\"\n",
        "Desa usar python para hacer una colección de sus peliculas favoritas.\n",
        "Haga un bluce indexado hasta 3 películas y almacene los valores en una lista\n",
        "\"\"\""
      ],
      "metadata": {
        "colab": {
          "base_uri": "https://localhost:8080/",
          "height": 35
        },
        "id": "rdwsVF6tqaKo",
        "outputId": "00aaca16-9774-4a10-ef15-4540059ec028"
      },
      "execution_count": null,
      "outputs": [
        {
          "output_type": "execute_result",
          "data": {
            "application/vnd.google.colaboratory.intrinsic+json": {
              "type": "string"
            },
            "text/plain": [
              "'\\nDesa usar python para hacer una colección de sus peliculas favoritas.\\nHaga un bluce indexado hasta 3 películas y almacene los valores en una lista\\n'"
            ]
          },
          "metadata": {},
          "execution_count": 70
        }
      ]
    },
    {
      "cell_type": "markdown",
      "source": [
        "##Problema 12"
      ],
      "metadata": {
        "id": "hfbCz2WMrZHR"
      }
    },
    {
      "cell_type": "code",
      "source": [
        "\"\"\"\n",
        ". Escriba en una lista sus 10 películas favoritas\n",
        "  a). Imprima en la pantalla las 3 primeras\n",
        "  b). Imprima las 3 ultimas\n",
        "  c). Imprima la 3ra\n",
        "  d). Imprima la 2da\n",
        "\"\"\""
      ],
      "metadata": {
        "colab": {
          "base_uri": "https://localhost:8080/",
          "height": 52
        },
        "id": "NPW2Gt-1qe8w",
        "outputId": "265beb39-3659-4593-f23a-cbf8cb3ffbce"
      },
      "execution_count": null,
      "outputs": [
        {
          "output_type": "execute_result",
          "data": {
            "application/vnd.google.colaboratory.intrinsic+json": {
              "type": "string"
            },
            "text/plain": [
              "'\\n1. Escriba en una lista sus 10 películas favoritas\\n  a). Imprima en la pantalla las 3 primeras\\n  b). Imprima las 3 ultimas\\n  c). Imprima la 3ra\\n  d). Imprima la 2da\\n'"
            ]
          },
          "metadata": {},
          "execution_count": 71
        }
      ]
    },
    {
      "cell_type": "markdown",
      "source": [
        "##Problema 13"
      ],
      "metadata": {
        "id": "UoqS67iVtXJT"
      }
    },
    {
      "cell_type": "code",
      "source": [
        "\"\"\"\n",
        "Guarde en una lista 10 nombres de amigos\n",
        "  a) Imprima una tupla con el 2do y 3ernombre\n",
        "  b) Imprima los del 2do al 5to\n",
        "  c) Imprima del 1ero al 3ero\n",
        "\"\"\""
      ],
      "metadata": {
        "colab": {
          "base_uri": "https://localhost:8080/",
          "height": 35
        },
        "id": "Dfj2yeDgtWa4",
        "outputId": "4a05245f-0da5-48c5-f704-ba8b78c706bf"
      },
      "execution_count": null,
      "outputs": [
        {
          "output_type": "execute_result",
          "data": {
            "application/vnd.google.colaboratory.intrinsic+json": {
              "type": "string"
            },
            "text/plain": [
              "'\\nGuarde en una lista 10 nombres de amigos\\n  a) Imprima una tupla con el 2do y 3ernombre\\n  b) Imprima los del 2do al 5to\\n  c) Imprima del 1ero al 3ero\\n'"
            ]
          },
          "metadata": {},
          "execution_count": 74
        }
      ]
    },
    {
      "cell_type": "markdown",
      "source": [
        "##Problema 14"
      ],
      "metadata": {
        "id": "vebLNCU5t5CY"
      }
    },
    {
      "cell_type": "code",
      "source": [
        "\"\"\"\n",
        "\n",
        "Guarde en una lista 7 ciudades del Perú\n",
        " a) Imprime la 2da Ciudad de la lista y bórrala\n",
        " b) Imprime la 3era Ciudad de la lista\n",
        " c) Imprime la lista resultante\n",
        " d) Imprima las ciudadades ordenadas. Use set(Lista) para resolverlo. \n",
        "\n",
        "\"\"\""
      ],
      "metadata": {
        "colab": {
          "base_uri": "https://localhost:8080/",
          "height": 52
        },
        "id": "mSKEsFnXt4PH",
        "outputId": "0dde35f7-b32e-45f2-c59a-ddb02a8d3eff"
      },
      "execution_count": null,
      "outputs": [
        {
          "output_type": "execute_result",
          "data": {
            "application/vnd.google.colaboratory.intrinsic+json": {
              "type": "string"
            },
            "text/plain": [
              "'\\n\\nGuarde en una lista 7 ciudades del Perú\\n a) Imprime la 2da Ciudad de la lista y bórrala\\n b) Imprime la 3era Ciudad de la lista\\n c) Imprime la lista resultante\\n\\n'"
            ]
          },
          "metadata": {},
          "execution_count": 75
        }
      ]
    },
    {
      "cell_type": "markdown",
      "source": [
        "## Problema 15"
      ],
      "metadata": {
        "id": "MiAopxvdwjOc"
      }
    },
    {
      "cell_type": "code",
      "source": [
        "\"\"\"\n",
        "Escriba un diccionario con los datos de 4 países de latinoamérica. Cada país debe contener la cantidad de habitantes, el nombre del presidente, idioma y capital\n",
        "  a) Imprima todo el diccionario\n",
        "  b) Imprima un país, buscando por su nombre\n",
        "\"\"\""
      ],
      "metadata": {
        "colab": {
          "base_uri": "https://localhost:8080/",
          "height": 52
        },
        "id": "3N7wo5W7s3a2",
        "outputId": "add4b0ee-3abf-44f9-ca8b-5ae2046af380"
      },
      "execution_count": null,
      "outputs": [
        {
          "output_type": "execute_result",
          "data": {
            "application/vnd.google.colaboratory.intrinsic+json": {
              "type": "string"
            },
            "text/plain": [
              "'\\nEscriba un diccionario con los datos de 4 países de latinoamérica. Cada país debe contener la cantidad de habitantes, el nombre del presidente, idioma y capital\\n  a) Imprima todo el diccionario\\n  b) Imprima un país, buscando por su nombre\\n'"
            ]
          },
          "metadata": {},
          "execution_count": 79
        }
      ]
    },
    {
      "cell_type": "markdown",
      "source": [
        "##Problema16"
      ],
      "metadata": {
        "id": "GvYxaC999I3f"
      }
    },
    {
      "cell_type": "code",
      "source": [
        "\"\"\"\n",
        "Escriba un diccionario con los datos de 5 Cursos de su semestre académico. Cada curso debe tener el nombre del profesor que dicta el curso, las horas del curso\n",
        "y las horas de estudio que desea colocar:\n",
        "  a) Imprima todo el diccionario\n",
        "  b) Imprima un curso, buscando por su nombre\n",
        "\"\"\""
      ],
      "metadata": {
        "colab": {
          "base_uri": "https://localhost:8080/",
          "height": 52
        },
        "id": "0EuaFMChuTgS",
        "outputId": "d76c1923-a224-4716-f6c1-f118c50a9100"
      },
      "execution_count": null,
      "outputs": [
        {
          "output_type": "execute_result",
          "data": {
            "application/vnd.google.colaboratory.intrinsic+json": {
              "type": "string"
            },
            "text/plain": [
              "'\\nEscriba un diccionario con los datos de 5 Cursos de su semestre académico. Cada curso debe tener el nombre del profesor que dicta el curso, las horas del curso\\ny las horas de estudio que desea colocar:\\n  a) Imprima todo el diccionario\\n  b) Imprima un curso, buscando por su nombre\\n'"
            ]
          },
          "metadata": {},
          "execution_count": 80
        }
      ]
    },
    {
      "cell_type": "markdown",
      "source": [
        "##Problema17"
      ],
      "metadata": {
        "id": "z48-JhxPKwoN"
      }
    },
    {
      "cell_type": "code",
      "source": [
        "\"\"\"\n",
        "Con el comando dir , describa los métodos de una lista y de un diccionario, \n",
        "\"\"\""
      ],
      "metadata": {
        "colab": {
          "base_uri": "https://localhost:8080/",
          "height": 35
        },
        "id": "71TJL4uYKwIz",
        "outputId": "456a6e0f-9a26-4d23-f97f-ad7f4e816349"
      },
      "execution_count": null,
      "outputs": [
        {
          "output_type": "execute_result",
          "data": {
            "application/vnd.google.colaboratory.intrinsic+json": {
              "type": "string"
            },
            "text/plain": [
              "'\\nCon el comando dir , describa los métodos de una lista y de un diccionario, \\n'"
            ]
          },
          "metadata": {},
          "execution_count": 1
        }
      ]
    },
    {
      "cell_type": "code",
      "source": [
        ""
      ],
      "metadata": {
        "id": "U4lv5S3BK_uf"
      },
      "execution_count": null,
      "outputs": []
    }
  ]
}