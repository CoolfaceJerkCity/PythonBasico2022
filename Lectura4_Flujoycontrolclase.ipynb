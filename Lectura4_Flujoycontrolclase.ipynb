{
  "nbformat": 4,
  "nbformat_minor": 0,
  "metadata": {
    "colab": {
      "name": "Lectura4_Flujoycontrolclase.ipynb",
      "provenance": [],
      "authorship_tag": "ABX9TyPdrdNNhwoukBoA4l5OTqx/",
      "include_colab_link": true
    },
    "kernelspec": {
      "name": "python3",
      "display_name": "Python 3"
    },
    "language_info": {
      "name": "python"
    }
  },
  "cells": [
    {
      "cell_type": "markdown",
      "metadata": {
        "id": "view-in-github",
        "colab_type": "text"
      },
      "source": [
        "<a href=\"https://colab.research.google.com/github/pedrorotta/PythonBasico2022/blob/main/Lectura4_Flujoycontrolclase.ipynb\" target=\"_parent\"><img src=\"https://colab.research.google.com/assets/colab-badge.svg\" alt=\"Open In Colab\"/></a>"
      ]
    },
    {
      "cell_type": "markdown",
      "source": [
        "#Flujo de un programa y control de flujo\n",
        "\n",
        "En esta clase veremos cómo se trabaja el flujo de cualquier programa. "
      ],
      "metadata": {
        "id": "ntD6Nt8dpGqQ"
      }
    },
    {
      "cell_type": "markdown",
      "source": [
        "##Problema1"
      ],
      "metadata": {
        "id": "hsk-3T-wpUPL"
      }
    },
    {
      "cell_type": "code",
      "execution_count": null,
      "metadata": {
        "colab": {
          "base_uri": "https://localhost:8080/"
        },
        "id": "Qrl4JlQko1xR",
        "outputId": "e6b65cf8-9590-4c03-ad33-d346095b916e"
      },
      "outputs": [
        {
          "output_type": "stream",
          "name": "stdout",
          "text": [
            "Ingrese S para entrar o cualquier tecla para salir: S\n",
            "Hola\n",
            "Ingrese S para continuar o cualquier tecla para salir: S\n",
            "Hola\n"
          ]
        }
      ],
      "source": [
        "\"\"\"\n",
        "El programa dice hola hasta que el usuario lo cierra\n",
        "\"\"\"\n",
        "\n",
        "decision = input('Ingrese S para entrar o cualquier tecla para salir: ')\n",
        "if decision == 'S':\n",
        "  print('Hola')\n",
        "  decision2 = input('Ingrese S para continuar o cualquier tecla para salir: ')\n",
        "  if decision2 == 'S' : \n",
        "    print(\"Hola\")\n",
        "  else: \n",
        "    print(\"cerrar\")\n",
        "else:\n",
        "  print('cerrar')\n"
      ]
    },
    {
      "cell_type": "code",
      "source": [
        "decision = input('Ingrese S para entrar o cualquier tecla para salir: ')\n",
        "while decision == 'S':\n",
        "  print(\"Hola\")\n",
        "  decision = input('Ingrese S para continuar o cualquier tecla para salir: ')\n",
        "print('cerrar')"
      ],
      "metadata": {
        "colab": {
          "base_uri": "https://localhost:8080/"
        },
        "id": "T_Wr6dGwpHDH",
        "outputId": "c7e33541-2e49-4cc8-855a-9b0b35354dda"
      },
      "execution_count": null,
      "outputs": [
        {
          "output_type": "stream",
          "name": "stdout",
          "text": [
            "Ingrese S para entrar o cualquier tecla para salir: n\n",
            "cerrar\n"
          ]
        }
      ]
    },
    {
      "cell_type": "markdown",
      "source": [
        "###Posibles errores"
      ],
      "metadata": {
        "id": "DZMVHWzZUSQm"
      }
    },
    {
      "cell_type": "code",
      "source": [
        "#aunque no se marca un error, el programa no cumple con lo requerido por un error en la indexación. \n",
        "decision = input('Ingrese S para entrar o cualquier tecla para salir: ')\n",
        "while decision == 'S':\n",
        "  print(\"Hola\")\n",
        "decision = input('Ingrese S para continuar o cualquier tecla para salir: ')\n",
        "print('cerrar')"
      ],
      "metadata": {
        "colab": {
          "base_uri": "https://localhost:8080/"
        },
        "id": "ckxBAi2FUX2d",
        "outputId": "cc91a1aa-3cb8-42eb-e27f-78c5ceed9a30"
      },
      "execution_count": null,
      "outputs": [
        {
          "output_type": "stream",
          "name": "stdout",
          "text": [
            "Ingrese S para entrar o cualquier tecla para salir: s\n",
            "Ingrese S para continuar o cualquier tecla para salir: s\n",
            "cerrar\n"
          ]
        }
      ]
    },
    {
      "cell_type": "markdown",
      "source": [
        "##Problema 2\n"
      ],
      "metadata": {
        "id": "FlbxXCklecU3"
      }
    },
    {
      "cell_type": "code",
      "source": [
        "\"\"\"\n",
        "Guardar una lista de nombres mientras se desee\n",
        "\"\"\"\n",
        "#decition = 'S' #puede inicializarse directamente\n",
        "decition = input('Ingrese S si desea guardar un nombre: ')\n",
        "nombres = []\n",
        "while decition == 'S':\n",
        "  nombres.append(input('Ingrese un nombre: '))\n",
        "  decition = input('Ingrese S si desea guardar un nombre')\n",
        "#también se puede incluir else\n",
        "print(nombres)\n",
        "print('cerrar programa')"
      ],
      "metadata": {
        "colab": {
          "base_uri": "https://localhost:8080/"
        },
        "id": "F7JjbFpWef7w",
        "outputId": "9802e5a5-82e7-4e8c-8c16-84cd429043a1"
      },
      "execution_count": null,
      "outputs": [
        {
          "output_type": "stream",
          "name": "stdout",
          "text": [
            "Ingrese S si desea guardar un nombres\n",
            "[]\n",
            "cerrar programa\n"
          ]
        }
      ]
    },
    {
      "cell_type": "markdown",
      "source": [
        "### Problema 3"
      ],
      "metadata": {
        "id": "uWDgUjtEixgh"
      }
    },
    {
      "cell_type": "code",
      "source": [
        "\"\"\"\n",
        "Entre 0 y 6 encontrar pares\n",
        "\"\"\" \n",
        "x = 0\n",
        "while x>=0 and x<6:\n",
        "  if x%2 == 0:\n",
        "    print(x,\"es par\")\n",
        "  x+=1\n",
        "  print(x)"
      ],
      "metadata": {
        "id": "hgAd8JIiJ44O",
        "colab": {
          "base_uri": "https://localhost:8080/"
        },
        "outputId": "3dfedad3-616b-4571-cafc-9864370ae89a"
      },
      "execution_count": null,
      "outputs": [
        {
          "output_type": "stream",
          "name": "stdout",
          "text": [
            "0 es par\n",
            "1\n",
            "2\n",
            "2 es par\n",
            "3\n",
            "4\n",
            "4 es par\n",
            "5\n",
            "6\n"
          ]
        }
      ]
    },
    {
      "cell_type": "markdown",
      "source": [
        "## Problema 4"
      ],
      "metadata": {
        "id": "olwZ9Mt_neA7"
      }
    },
    {
      "cell_type": "code",
      "source": [
        "\"\"\"\n",
        "Imprimir todos los valores de una lista\n",
        "\"\"\"\n",
        "Nombres = [\"Pedro\",\"Javier\",\"Marco\",\"Guillermo\"]\n",
        "for i in Nombres:\n",
        "  print(i)"
      ],
      "metadata": {
        "colab": {
          "base_uri": "https://localhost:8080/"
        },
        "id": "oZCEObVwi1uE",
        "outputId": "da5f1034-05d8-499b-919e-9394fbbcd895"
      },
      "execution_count": null,
      "outputs": [
        {
          "output_type": "stream",
          "name": "stdout",
          "text": [
            "Pedro\n",
            "Javier\n",
            "Marco\n",
            "Guillermo\n"
          ]
        }
      ]
    },
    {
      "cell_type": "markdown",
      "source": [
        "##Problema 5"
      ],
      "metadata": {
        "id": "CsEOhXvJzkbu"
      }
    },
    {
      "cell_type": "code",
      "source": [
        "\"\"\"\n",
        "Hacer una suma de 0 a n, n es dado por el usuario.\n",
        "\"\"\"\n",
        "sum = 0\n",
        "for i in range(0,int(input('Ingrese el límite de suma: '))+1):\n",
        "  sum = sum+i\n",
        "print(sum)"
      ],
      "metadata": {
        "colab": {
          "base_uri": "https://localhost:8080/"
        },
        "id": "cLufJQo-bPG7",
        "outputId": "edb75a47-be3a-4bab-8277-354bff6c6843"
      },
      "execution_count": null,
      "outputs": [
        {
          "output_type": "stream",
          "name": "stdout",
          "text": [
            "Ingrese el límite de suma: 100\n",
            "5050\n"
          ]
        }
      ]
    },
    {
      "cell_type": "markdown",
      "source": [
        "### Posibles errores"
      ],
      "metadata": {
        "id": "_BFDLRjkjeqx"
      }
    },
    {
      "cell_type": "code",
      "source": [
        "#No sumar uno. \n",
        "sum = 0\n",
        "for i in range(0,int(input('Ingrese el límite de suma: '))):\n",
        "  sum = sum+i\n",
        "print(sum)"
      ],
      "metadata": {
        "colab": {
          "base_uri": "https://localhost:8080/"
        },
        "id": "E6SBUSCrjhpK",
        "outputId": "775c1c56-93c3-45b8-d621-98750839c08d"
      },
      "execution_count": null,
      "outputs": [
        {
          "output_type": "stream",
          "name": "stdout",
          "text": [
            "Ingrese el límite de suma: 100\n",
            "4950\n"
          ]
        }
      ]
    },
    {
      "cell_type": "code",
      "source": [
        "#No sumar uno. \n",
        "sum = 0\n",
        "for i in range(0,input('Ingrese el límite de suma: ')+1):\n",
        "  sum = sum+i\n",
        "print(sum)"
      ],
      "metadata": {
        "colab": {
          "base_uri": "https://localhost:8080/",
          "height": 253
        },
        "id": "iErAwp1Njojb",
        "outputId": "1ba4bf35-8823-4b98-896d-295004ee159f"
      },
      "execution_count": null,
      "outputs": [
        {
          "name": "stdout",
          "output_type": "stream",
          "text": [
            "Ingrese el límite de suma: 100\n"
          ]
        },
        {
          "output_type": "error",
          "ename": "TypeError",
          "evalue": "ignored",
          "traceback": [
            "\u001b[0;31m---------------------------------------------------------------------------\u001b[0m",
            "\u001b[0;31mTypeError\u001b[0m                                 Traceback (most recent call last)",
            "\u001b[0;32m<ipython-input-13-7fec034ee24b>\u001b[0m in \u001b[0;36m<module>\u001b[0;34m()\u001b[0m\n\u001b[1;32m      1\u001b[0m \u001b[0;31m#No sumar uno.\u001b[0m\u001b[0;34m\u001b[0m\u001b[0;34m\u001b[0m\u001b[0;34m\u001b[0m\u001b[0m\n\u001b[1;32m      2\u001b[0m \u001b[0msum\u001b[0m \u001b[0;34m=\u001b[0m \u001b[0;36m0\u001b[0m\u001b[0;34m\u001b[0m\u001b[0;34m\u001b[0m\u001b[0m\n\u001b[0;32m----> 3\u001b[0;31m \u001b[0;32mfor\u001b[0m \u001b[0mi\u001b[0m \u001b[0;32min\u001b[0m \u001b[0mrange\u001b[0m\u001b[0;34m(\u001b[0m\u001b[0;36m0\u001b[0m\u001b[0;34m,\u001b[0m\u001b[0minput\u001b[0m\u001b[0;34m(\u001b[0m\u001b[0;34m'Ingrese el límite de suma: '\u001b[0m\u001b[0;34m)\u001b[0m\u001b[0;34m+\u001b[0m\u001b[0;36m1\u001b[0m\u001b[0;34m)\u001b[0m\u001b[0;34m:\u001b[0m\u001b[0;34m\u001b[0m\u001b[0;34m\u001b[0m\u001b[0m\n\u001b[0m\u001b[1;32m      4\u001b[0m   \u001b[0msum\u001b[0m \u001b[0;34m=\u001b[0m \u001b[0msum\u001b[0m\u001b[0;34m+\u001b[0m\u001b[0mi\u001b[0m\u001b[0;34m\u001b[0m\u001b[0;34m\u001b[0m\u001b[0m\n\u001b[1;32m      5\u001b[0m \u001b[0mprint\u001b[0m\u001b[0;34m(\u001b[0m\u001b[0msum\u001b[0m\u001b[0;34m)\u001b[0m\u001b[0;34m\u001b[0m\u001b[0;34m\u001b[0m\u001b[0m\n",
            "\u001b[0;31mTypeError\u001b[0m: can only concatenate str (not \"int\") to str"
          ]
        }
      ]
    },
    {
      "cell_type": "markdown",
      "source": [
        "## Problema 6"
      ],
      "metadata": {
        "id": "cGqSdB9sjtYs"
      }
    },
    {
      "cell_type": "code",
      "source": [
        "\"\"\"\n",
        "Coleccionar los gastos de un mes\n",
        "\"\"\"\n",
        "#Como solo son 12 meses, entonces podemos decir\n",
        "GastosMensuales = [100,500,750,230,450,200,750,300,400,150,600,345]\n",
        "for i in range(0,len(GastosMensuales)):\n",
        "  print(GastosMensuales[i],'indice',i)"
      ],
      "metadata": {
        "colab": {
          "base_uri": "https://localhost:8080/"
        },
        "id": "PU6_MEsibxDS",
        "outputId": "9455d8f6-7688-44b0-9819-bfc1fe23301c"
      },
      "execution_count": null,
      "outputs": [
        {
          "output_type": "stream",
          "name": "stdout",
          "text": [
            "100 indice 0\n",
            "500 indice 1\n",
            "750 indice 2\n",
            "230 indice 3\n",
            "450 indice 4\n",
            "200 indice 5\n",
            "750 indice 6\n",
            "300 indice 7\n",
            "400 indice 8\n",
            "150 indice 9\n",
            "600 indice 10\n",
            "345 indice 11\n"
          ]
        }
      ]
    },
    {
      "cell_type": "markdown",
      "source": [
        "##Problema 7"
      ],
      "metadata": {
        "id": "WmRMOmwAo5hl"
      }
    },
    {
      "cell_type": "code",
      "source": [
        "\"\"\"\n",
        "De una lista buscar el primer par\n",
        "\"\"\"\n",
        "\n",
        "Numeros = [1,2,3,4,5,6]\n",
        "for i in Numeros:\n",
        "  if i % 2 == 0:\n",
        "    print(i,'es el primer par')\n",
        "    break\n",
        "  else:\n",
        "    print(i,'no es par')\n",
        "print('fuera del bucle')"
      ],
      "metadata": {
        "colab": {
          "base_uri": "https://localhost:8080/"
        },
        "id": "atp1zAuk7MYR",
        "outputId": "3c8463ee-2989-410a-ac71-2e23b0b5b9fa"
      },
      "execution_count": null,
      "outputs": [
        {
          "output_type": "stream",
          "name": "stdout",
          "text": [
            "1 no es par\n",
            "2 es el primer par\n",
            "fuera del bucle\n"
          ]
        }
      ]
    },
    {
      "cell_type": "markdown",
      "source": [
        "##Problema 8"
      ],
      "metadata": {
        "id": "Fg04VNBq7tFV"
      }
    },
    {
      "cell_type": "code",
      "source": [
        "\"\"\"\n",
        "De una lista, mostrar todos los pares, menos el segundo menor\n",
        "\"\"\"\n",
        "\n",
        "Numeros = [1,2,3,4,5,6,7,8,9,10]\n",
        "contador_pares = 0\n",
        "\n",
        "for i in Numeros:\n",
        "  if i%2 == 0 and contador_pares ==1:\n",
        "    contador_pares+=1\n",
        "    continue\n",
        "  if i%2 == 0 :\n",
        "    contador_pares+=1\n",
        "    print(i,\"es el\",contador_pares,'par')\n",
        "  else:\n",
        "    pass\n",
        "print('fuera')  \n",
        "\n"
      ],
      "metadata": {
        "colab": {
          "base_uri": "https://localhost:8080/"
        },
        "id": "QYhS2Uij7w2V",
        "outputId": "a2e87d51-b987-4171-c7cb-f1851361e9ff"
      },
      "execution_count": null,
      "outputs": [
        {
          "output_type": "stream",
          "name": "stdout",
          "text": [
            "2 es el 1 par\n",
            "6 es el 3 par\n",
            "8 es el 4 par\n",
            "10 es el 5 par\n",
            "fuera\n"
          ]
        }
      ]
    },
    {
      "cell_type": "markdown",
      "source": [
        "## Problema 9"
      ],
      "metadata": {
        "id": "PtkP_9JK-oTH"
      }
    },
    {
      "cell_type": "code",
      "source": [
        "\"\"\"\n",
        "De una colección obtener la posición o el índice del mayor y el valor del mayor. \n",
        "\"\"\"\n",
        "\n",
        "Edades = [12,11,13,11,15,17,14,11,13,14,18,15,16,13,16,21,19,12]\n",
        "\n",
        "#Primero mirar casos\n",
        "#Selecciono el primer valor (12) (Edad anterior)\n",
        "#Luego selecciono el segundo valor (11) (Edad actual)\n",
        "# Caso 1: La Edad actual es mayor o igual a la edad anterior y mayor a la edad max (1er caso)=> La edad_max = la edad_actual\n",
        "# Caso 2:La Edad actual es menor a la edad anterior\n",
        "## Caso2 A: La edad anterior es mayor a la edad max => edad_max = edad_ant\n",
        "## Caso2 B: La edad anterior es menor o igual a la edad max => edad_max = edad_max\n"
      ],
      "metadata": {
        "id": "Fl2dzUQ3qj5y",
        "colab": {
          "base_uri": "https://localhost:8080/"
        },
        "outputId": "4f6dea63-b0b4-4e41-977d-8a8f6e2fa8e1"
      },
      "execution_count": null,
      "outputs": [
        {
          "output_type": "stream",
          "name": "stdout",
          "text": [
            "21 15\n"
          ]
        }
      ]
    },
    {
      "cell_type": "markdown",
      "source": [
        "## Problema 10"
      ],
      "metadata": {
        "id": "jaOFbSUjeJ6a"
      }
    },
    {
      "cell_type": "code",
      "source": [
        "\"\"\"\n",
        "De una lista de Nombres, imprimir solo los que comienzan por N\n",
        "\"\"\""
      ],
      "metadata": {
        "id": "gZZ5xDgfUcKP"
      },
      "execution_count": null,
      "outputs": []
    },
    {
      "cell_type": "markdown",
      "source": [
        "## Problema 11"
      ],
      "metadata": {
        "id": "4TD6z1s8eVML"
      }
    },
    {
      "cell_type": "code",
      "source": [
        "\"\"\"\n",
        "De una lista de Edades, imprima las impares como \"El valor x es impar\" y para los pares escriba, \"el valor x es par\"\n",
        "\"\"\""
      ],
      "metadata": {
        "colab": {
          "base_uri": "https://localhost:8080/",
          "height": 35
        },
        "id": "gkER9UmxeUaj",
        "outputId": "395933db-e7e7-4d7c-c846-56bd26463afe"
      },
      "execution_count": null,
      "outputs": [
        {
          "output_type": "execute_result",
          "data": {
            "application/vnd.google.colaboratory.intrinsic+json": {
              "type": "string"
            },
            "text/plain": [
              "'\\nDe una lista de Edades, imprima las impares como \"El valor x es impar\" y para los pares escriba, \"el valor x es par\"\\n'"
            ]
          },
          "metadata": {},
          "execution_count": 2
        }
      ]
    },
    {
      "cell_type": "markdown",
      "source": [
        "##Problema 12"
      ],
      "metadata": {
        "id": "qD-1ZfWcfK49"
      }
    },
    {
      "cell_type": "code",
      "source": [
        "\"\"\"\n",
        "Hacer una función para guardar nombres de clientes\n",
        "\"\"\"\n",
        "\n",
        "def GuardarClientes():\n",
        "  clientes = []\n",
        "  _decision = input('Ingrese S para guardar un cliente')\n",
        "  while _decision == 'S':\n",
        "    name_client = input('Ingrese el nombre de un cliente: ')\n",
        "    clientes.append(name_client)\n",
        "    _decision = input('Ingrese S para guardar un cliente')\n",
        "  return clientes"
      ],
      "metadata": {
        "id": "sQDGrlQNqvrH"
      },
      "execution_count": null,
      "outputs": []
    },
    {
      "cell_type": "code",
      "source": [
        "GuardarClientes()"
      ],
      "metadata": {
        "colab": {
          "base_uri": "https://localhost:8080/"
        },
        "id": "xgrd1B4grixA",
        "outputId": "836926e9-d908-4004-fc7d-78a080f988c8"
      },
      "execution_count": null,
      "outputs": [
        {
          "name": "stdout",
          "output_type": "stream",
          "text": [
            "Ingrese S para guardar un clienteS\n",
            "Ingrese el nombre de un cliente: Pedro Rotta\n",
            "Ingrese S para guardar un clienteS\n",
            "Ingrese el nombre de un cliente: Jorge Hurtado\n",
            "Ingrese S para guardar un clienteS\n",
            "Ingrese el nombre de un cliente: Miguel Fernandez\n",
            "Ingrese S para guardar un clientem\n"
          ]
        },
        {
          "output_type": "execute_result",
          "data": {
            "text/plain": [
              "['Pedro Rotta', 'Jorge Hurtado', 'Miguel Fernandez']"
            ]
          },
          "metadata": {},
          "execution_count": 6
        }
      ]
    },
    {
      "cell_type": "markdown",
      "source": [
        "##Problema 13"
      ],
      "metadata": {
        "id": "0414AAEMKL0S"
      }
    },
    {
      "cell_type": "code",
      "source": [
        "\"\"\"\n",
        "Se debe hacer un programa que guarde los Clientes y proovedores en un diccionario. Cada usuario tiene que tener Su nombre, asignación (Proveedor o cliente), si ha\n",
        "pagado o debe (Para clientes) o si ha se le ha pagado o no (). El modelo se adjunta en el archivo excel. (Ver archivo excel).\n",
        "\n",
        "\"\"\"\n",
        "#QuiereGuardar(True)\n",
        "  #GuardarUsuario\n",
        "#QuiereGuardar(False)\n",
        "  #Cerrarprograma\n",
        "  #imprimir resultado"
      ],
      "metadata": {
        "id": "06NCWLZOemwf",
        "colab": {
          "base_uri": "https://localhost:8080/",
          "height": 53
        },
        "outputId": "f91437c1-9e6c-424d-d31c-b192b68ac15a"
      },
      "execution_count": 1,
      "outputs": [
        {
          "output_type": "execute_result",
          "data": {
            "application/vnd.google.colaboratory.intrinsic+json": {
              "type": "string"
            },
            "text/plain": [
              "'\\nSe debe hacer un programa que guarde los Clientes y proovedores en un diccionario. Cada usuario tiene que tener Su nombre, asignación (Proveedor o cliente), si ha\\npagado o debe (Para clientes) o si ha se le ha pagado o no (). El modelo se adjunta en el archivo excel. (Ver archivo excel).\\n\\n'"
            ]
          },
          "metadata": {},
          "execution_count": 1
        }
      ]
    },
    {
      "cell_type": "code",
      "source": [
        " \"\"\"\n",
        " Cree un programa para hacer colección de edades en una lista (Use while)\n",
        " \"\"\""
      ],
      "metadata": {
        "colab": {
          "base_uri": "https://localhost:8080/",
          "height": 35
        },
        "id": "0qB4IvVtspTx",
        "outputId": "db2594b5-eb60-4d48-e48c-a1fe8ab64b0a"
      },
      "execution_count": null,
      "outputs": [
        {
          "output_type": "execute_result",
          "data": {
            "application/vnd.google.colaboratory.intrinsic+json": {
              "type": "string"
            },
            "text/plain": [
              "'\\nCree un programa para hacer colección de edades en una lista\\n'"
            ]
          },
          "metadata": {},
          "execution_count": 8
        }
      ]
    },
    {
      "cell_type": "code",
      "source": [
        " \"\"\"\n",
        " Cree un programa para hacer una lista de películas favoritas (Use while)\n",
        " \"\"\""
      ],
      "metadata": {
        "colab": {
          "base_uri": "https://localhost:8080/",
          "height": 35
        },
        "id": "4ZZY591RVbNQ",
        "outputId": "473200ff-2d03-441a-a60c-2f6ec0c67aa8"
      },
      "execution_count": null,
      "outputs": [
        {
          "output_type": "execute_result",
          "data": {
            "application/vnd.google.colaboratory.intrinsic+json": {
              "type": "string"
            },
            "text/plain": [
              "'\\nCree un programa para hacer una lista de películas favoritas\\n'"
            ]
          },
          "metadata": {},
          "execution_count": 9
        }
      ]
    },
    {
      "cell_type": "code",
      "source": [
        "\"\"\"\n",
        "Haga un programa que sume todos los números dados por un usuario (use for)\n",
        "\"\"\""
      ],
      "metadata": {
        "colab": {
          "base_uri": "https://localhost:8080/",
          "height": 35
        },
        "id": "KARwtfSfVgP5",
        "outputId": "a7612d18-3665-4d83-88b1-b9dce083ca4d"
      },
      "execution_count": null,
      "outputs": [
        {
          "output_type": "execute_result",
          "data": {
            "application/vnd.google.colaboratory.intrinsic+json": {
              "type": "string"
            },
            "text/plain": [
              "'\\nHaga un programa que sume todos los números dados por un usuario\\n'"
            ]
          },
          "metadata": {},
          "execution_count": 10
        }
      ]
    },
    {
      "cell_type": "code",
      "source": [
        "\"\"\"\n",
        "De una lista de Nombres, imprimir solo los que comienzan por N\n",
        "\"\"\""
      ],
      "metadata": {
        "id": "IovnxDZC2Akv",
        "colab": {
          "base_uri": "https://localhost:8080/",
          "height": 35
        },
        "outputId": "b30eb4f2-36a6-46fd-c452-5b0d6522987a"
      },
      "execution_count": null,
      "outputs": [
        {
          "output_type": "execute_result",
          "data": {
            "application/vnd.google.colaboratory.intrinsic+json": {
              "type": "string"
            },
            "text/plain": [
              "'\\nDe una lista de Nombres, imprimir solo los que comienzan por N\\n'"
            ]
          },
          "metadata": {},
          "execution_count": 1
        }
      ]
    },
    {
      "cell_type": "code",
      "source": [
        "\"\"\"\n",
        "Haga un programa que sume todos los números en una colección (use for)\n",
        "\"\"\""
      ],
      "metadata": {
        "id": "OWauy9scWgHh"
      },
      "execution_count": null,
      "outputs": []
    },
    {
      "cell_type": "code",
      "source": [
        "\"\"\"\n",
        "Haga un programa que multiplique todos los numeros dados por el usuario (use for)\n",
        "\"\"\""
      ],
      "metadata": {
        "id": "NQah3RXqWjRt"
      },
      "execution_count": null,
      "outputs": []
    },
    {
      "cell_type": "code",
      "source": [
        "\"\"\"\n",
        "Calcule el 20% de todos los números de una lista y guarde resultado en otra (use for)\n",
        "\"\"\""
      ],
      "metadata": {
        "colab": {
          "base_uri": "https://localhost:8080/",
          "height": 35
        },
        "id": "g9bQa4eYW3AR",
        "outputId": "4ebaee25-df14-4de8-8167-5b5925f6e582"
      },
      "execution_count": null,
      "outputs": [
        {
          "output_type": "execute_result",
          "data": {
            "application/vnd.google.colaboratory.intrinsic+json": {
              "type": "string"
            },
            "text/plain": [
              "'\\nCalcule el 20% de todos los números de una lista y guardelos en otra\\n'"
            ]
          },
          "metadata": {},
          "execution_count": 11
        }
      ]
    },
    {
      "cell_type": "code",
      "source": [
        "\"\"\"\n",
        "crea la siguente estructura (cuando se coloca /n hace salto de línea) usando for\n",
        "#\n",
        "##\n",
        "###\n",
        "####\n",
        "\"\"\"\n",
        "\n",
        "print(\"#\\n##\\n###\")"
      ],
      "metadata": {
        "colab": {
          "base_uri": "https://localhost:8080/"
        },
        "id": "FAncPQVAW8fe",
        "outputId": "ec07f885-8664-4987-b074-4abe9b07d8e5"
      },
      "execution_count": null,
      "outputs": [
        {
          "output_type": "stream",
          "name": "stdout",
          "text": [
            "#\n",
            "##\n",
            "###\n"
          ]
        }
      ]
    },
    {
      "cell_type": "code",
      "source": [
        "\"\"\"\n",
        "Halle el índice de una coleccion de nombres\n",
        "\"\"\"\n"
      ],
      "metadata": {
        "colab": {
          "base_uri": "https://localhost:8080/",
          "height": 35
        },
        "id": "wgHhw2c6XGCS",
        "outputId": "6dc2981a-c96d-4e1c-b495-43fc7cd2c45a"
      },
      "execution_count": null,
      "outputs": [
        {
          "output_type": "execute_result",
          "data": {
            "application/vnd.google.colaboratory.intrinsic+json": {
              "type": "string"
            },
            "text/plain": [
              "'\\nHalle el índice de una coleccion de nombres\\n'"
            ]
          },
          "metadata": {},
          "execution_count": 20
        }
      ]
    },
    {
      "cell_type": "code",
      "source": [
        "\"\"\"\n",
        "Crea un programa que permita introducir números de celular, verifique que todos comienzan con 9\n",
        "\"\"\""
      ],
      "metadata": {
        "colab": {
          "base_uri": "https://localhost:8080/",
          "height": 35
        },
        "id": "FHA9JWerXuGV",
        "outputId": "91038fcd-e4b4-4234-86b5-2fc998694cfe"
      },
      "execution_count": null,
      "outputs": [
        {
          "output_type": "execute_result",
          "data": {
            "application/vnd.google.colaboratory.intrinsic+json": {
              "type": "string"
            },
            "text/plain": [
              "'\\nCrea un programa que permita introducir números de celular, verifique que todos comienzan con 9\\n'"
            ]
          },
          "metadata": {},
          "execution_count": 21
        }
      ]
    },
    {
      "cell_type": "code",
      "source": [
        "\"\"\"\n",
        "Hacer una función para guardar una lista de celulares dados por el cliente\n",
        "\"\"\""
      ],
      "metadata": {
        "id": "KRa5frKDTmv-"
      },
      "execution_count": null,
      "outputs": []
    },
    {
      "cell_type": "code",
      "source": [
        "\"\"\"\n",
        "Hacer una función para guardar emails de clientes\n",
        "\"\"\""
      ],
      "metadata": {
        "id": "Hd9u1PzET9uM"
      },
      "execution_count": null,
      "outputs": []
    }
  ]
}