{
  "nbformat": 4,
  "nbformat_minor": 0,
  "metadata": {
    "colab": {
      "name": "Exámen.ipynb",
      "provenance": [],
      "authorship_tag": "ABX9TyMH/DD8EHumkk/WD4jUEttX",
      "include_colab_link": true
    },
    "kernelspec": {
      "name": "python3",
      "display_name": "Python 3"
    },
    "language_info": {
      "name": "python"
    }
  },
  "cells": [
    {
      "cell_type": "markdown",
      "metadata": {
        "id": "view-in-github",
        "colab_type": "text"
      },
      "source": [
        "<a href=\"https://colab.research.google.com/github/pedrorotta/PythonBasico2022/blob/main/Ex%C3%A1men.ipynb\" target=\"_parent\"><img src=\"https://colab.research.google.com/assets/colab-badge.svg\" alt=\"Open In Colab\"/></a>"
      ]
    },
    {
      "cell_type": "markdown",
      "source": [
        "# Indicaciones\n",
        "\n",
        "<p>Se entrega un archivo ipynb con tu nombre. </p>\n",
        "<p>Puedes usar todo lo visto en clase.</p>\n",
        "<p>Hora final de entrega: Sabado 11:00pm</p>\n",
        "<p>Modo de entrega : pedro.rotta@artifypirhu.com </p>"
      ],
      "metadata": {
        "id": "9Prb7sGL1mA3"
      }
    },
    {
      "cell_type": "code",
      "execution_count": 1,
      "metadata": {
        "colab": {
          "base_uri": "https://localhost:8080/",
          "height": 35
        },
        "id": "YOCXVGes1jyI",
        "outputId": "bbe8189e-e1dd-4cc7-a824-66cc4e557b75"
      },
      "outputs": [
        {
          "output_type": "execute_result",
          "data": {
            "application/vnd.google.colaboratory.intrinsic+json": {
              "type": "string"
            },
            "text/plain": [
              "'\\n Cree un programa para hacer colección de edades en una lista (Use while)\\n '"
            ]
          },
          "metadata": {},
          "execution_count": 1
        }
      ],
      "source": [
        "\"\"\"\n",
        " Cree un programa para hacer colección de edades en una lista (Use while)\n",
        " \"\"\""
      ]
    },
    {
      "cell_type": "code",
      "source": [
        "\"\"\"\n",
        "Haga un programa que sume todos los números dados por un usuario (use for)\n",
        "\"\"\""
      ],
      "metadata": {
        "colab": {
          "base_uri": "https://localhost:8080/",
          "height": 35
        },
        "id": "UWU8i6Xq5bxe",
        "outputId": "271e3caa-0914-4a02-ea75-cd0bdade97fc"
      },
      "execution_count": 2,
      "outputs": [
        {
          "output_type": "execute_result",
          "data": {
            "application/vnd.google.colaboratory.intrinsic+json": {
              "type": "string"
            },
            "text/plain": [
              "'\\nHaga un programa que sume todos los números dados por un usuario (use for)\\n'"
            ]
          },
          "metadata": {},
          "execution_count": 2
        }
      ]
    },
    {
      "cell_type": "code",
      "source": [
        "\"\"\"\n",
        "De una lista de Nombres, imprimir solo los que comienzan por N\n",
        "\"\"\""
      ],
      "metadata": {
        "colab": {
          "base_uri": "https://localhost:8080/",
          "height": 35
        },
        "id": "sfhpoBw95eCx",
        "outputId": "93af0474-15b8-4d76-c250-20eba357f83e"
      },
      "execution_count": 3,
      "outputs": [
        {
          "output_type": "execute_result",
          "data": {
            "application/vnd.google.colaboratory.intrinsic+json": {
              "type": "string"
            },
            "text/plain": [
              "'\\nDe una lista de Nombres, imprimir solo los que comienzan por N\\n'"
            ]
          },
          "metadata": {},
          "execution_count": 3
        }
      ]
    },
    {
      "cell_type": "code",
      "source": [
        "\"\"\"\n",
        "Haga un programa que multiplique todos los numeros dados por el usuario (use for)\n",
        "\"\"\""
      ],
      "metadata": {
        "id": "FlcBueA75fmV"
      },
      "execution_count": null,
      "outputs": []
    },
    {
      "cell_type": "code",
      "source": [
        "\"\"\"\n",
        "crea la siguente estructura (cuando se coloca /n hace salto de línea) usando for\n",
        "#\n",
        "##\n",
        "###\n",
        "####\n",
        "#####\n",
        "####\n",
        "###\n",
        "##\n",
        "#\n",
        "\n",
        "para cualquier n dado por el usuario. \n",
        "\"\"\"\n",
        "print(\"#\\n##\\n###\")"
      ],
      "metadata": {
        "colab": {
          "base_uri": "https://localhost:8080/"
        },
        "id": "ji9gr0a45hTM",
        "outputId": "c597b39e-1463-454f-82f8-f93c261992d0"
      },
      "execution_count": 4,
      "outputs": [
        {
          "output_type": "stream",
          "name": "stdout",
          "text": [
            "#\n",
            "##\n",
            "###\n"
          ]
        }
      ]
    },
    {
      "cell_type": "code",
      "source": [
        "\"\"\"\n",
        "Halle el índice de una coleccion de nombres\n",
        "\"\"\""
      ],
      "metadata": {
        "colab": {
          "base_uri": "https://localhost:8080/",
          "height": 35
        },
        "id": "7yTea-mn5q50",
        "outputId": "ed7bf1c3-434a-4add-f7f7-2b18d0b12058"
      },
      "execution_count": 5,
      "outputs": [
        {
          "output_type": "execute_result",
          "data": {
            "application/vnd.google.colaboratory.intrinsic+json": {
              "type": "string"
            },
            "text/plain": [
              "'\\nHalle el índice de una coleccion de nombres\\n'"
            ]
          },
          "metadata": {},
          "execution_count": 5
        }
      ]
    },
    {
      "cell_type": "code",
      "source": [
        "\"\"\"\n",
        "Hacer una función para guardar una lista de celulares dados por el cliente\n",
        "\"\"\""
      ],
      "metadata": {
        "colab": {
          "base_uri": "https://localhost:8080/",
          "height": 35
        },
        "id": "ECnOLq285suP",
        "outputId": "e461671c-0eb0-4aaa-8769-ae4ad1d6487d"
      },
      "execution_count": 6,
      "outputs": [
        {
          "output_type": "execute_result",
          "data": {
            "application/vnd.google.colaboratory.intrinsic+json": {
              "type": "string"
            },
            "text/plain": [
              "'\\nHacer una función para guardar una lista de celulares dados por el cliente\\n'"
            ]
          },
          "metadata": {},
          "execution_count": 6
        }
      ]
    },
    {
      "cell_type": "code",
      "source": [
        "\"\"\"\n",
        "Hacer una función para guardar emails de clientes en un excel \n",
        "\"\"\""
      ],
      "metadata": {
        "colab": {
          "base_uri": "https://localhost:8080/",
          "height": 35
        },
        "id": "VqSEd6OT5uUN",
        "outputId": "cef47c76-ade3-4b8d-9fed-0d3dd4106eee"
      },
      "execution_count": 7,
      "outputs": [
        {
          "output_type": "execute_result",
          "data": {
            "application/vnd.google.colaboratory.intrinsic+json": {
              "type": "string"
            },
            "text/plain": [
              "'\\nHacer una función para guardar emails de clientes\\n'"
            ]
          },
          "metadata": {},
          "execution_count": 7
        }
      ]
    },
    {
      "cell_type": "code",
      "source": [
        "\"\"\"\n",
        "Hacer un programa para almacenar datos de clientes (celular, telefono, email) en un excel\n",
        "\"\"\"\n"
      ],
      "metadata": {
        "colab": {
          "base_uri": "https://localhost:8080/",
          "height": 35
        },
        "id": "lNaS4oFs5vge",
        "outputId": "fa375f7c-6659-44ce-fc55-48992d94d17d"
      },
      "execution_count": 9,
      "outputs": [
        {
          "output_type": "execute_result",
          "data": {
            "application/vnd.google.colaboratory.intrinsic+json": {
              "type": "string"
            },
            "text/plain": [
              "'\\nHacer un programa para almacenar datos de clientes (celular, telefono, email) en un excel\\n'"
            ]
          },
          "metadata": {},
          "execution_count": 9
        }
      ]
    },
    {
      "cell_type": "code",
      "source": [
        "# Crea una matriz de 3x4 de unos "
      ],
      "metadata": {
        "id": "Kwj3gz5V6EJE"
      },
      "execution_count": null,
      "outputs": []
    },
    {
      "cell_type": "code",
      "source": [
        "# Genere un función para calcular la transpuesta de una matriz"
      ],
      "metadata": {
        "id": "zljQ-OyU6PXe"
      },
      "execution_count": null,
      "outputs": []
    },
    {
      "cell_type": "code",
      "source": [
        "# Genere una función para encontrar el producto interno de un vector por si mismo"
      ],
      "metadata": {
        "id": "jaf8vC3m6QrR"
      },
      "execution_count": null,
      "outputs": []
    },
    {
      "cell_type": "code",
      "source": [
        "# Genere una función que convierta directamente una imagen en un array (Ingresa un url y la salida es un array)"
      ],
      "metadata": {
        "id": "ocEM8czi6SHx"
      },
      "execution_count": null,
      "outputs": []
    },
    {
      "cell_type": "code",
      "source": [
        "\"\"\"\n",
        "Genere una función que a partir de una df y el valor de una columna, se genere una lista con los valores de dicha columna:\n",
        "\n",
        "funcion(df,columna)\n",
        "\"\"\""
      ],
      "metadata": {
        "id": "s2bgLm_56XT7"
      },
      "execution_count": null,
      "outputs": []
    },
    {
      "cell_type": "code",
      "source": [
        "\"\"\"\n",
        "Genere un programa o función que permita guardar nuevas filas en un df\n",
        "\"\"\""
      ],
      "metadata": {
        "id": "75p5YVCh6aBy"
      },
      "execution_count": null,
      "outputs": []
    },
    {
      "cell_type": "code",
      "source": [
        "\"\"\"\n",
        "Genere un programa que guarde una tabla en un archivo excel. \n",
        "\"\"\""
      ],
      "metadata": {
        "id": "ndoPO7S-6joj"
      },
      "execution_count": null,
      "outputs": []
    },
    {
      "cell_type": "code",
      "source": [
        "#Grafica una función exponencial e**x"
      ],
      "metadata": {
        "id": "BBGZxebe6pBM"
      },
      "execution_count": null,
      "outputs": []
    },
    {
      "cell_type": "code",
      "source": [
        "#Grafica en la misma figura, pero con spines distintos, y difentes trazas, el sen y coseno de x desde -2pi hasta 2pi"
      ],
      "metadata": {
        "id": "kFbdK9fL6ur8"
      },
      "execution_count": null,
      "outputs": []
    },
    {
      "cell_type": "code",
      "source": [
        "#Grafica en un parche, un elipse con centro en 0,0, un ancho de 2 y un alto de 4. "
      ],
      "metadata": {
        "id": "BISSsYT36w3x"
      },
      "execution_count": null,
      "outputs": []
    },
    {
      "cell_type": "code",
      "source": [
        "#Grafica en una figura, 3 trazas compartiendo el mismo x, en donde sea y1 = x**2, y2 = x**3 y y3 dado por el usuario\n"
      ],
      "metadata": {
        "id": "_Gh1GqiW6zkX"
      },
      "execution_count": null,
      "outputs": []
    }
  ]
}