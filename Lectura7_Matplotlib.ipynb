{
  "nbformat": 4,
  "nbformat_minor": 0,
  "metadata": {
    "colab": {
      "name": "Lectura7_Matplotlib.ipynb",
      "provenance": [],
      "collapsed_sections": [],
      "authorship_tag": "ABX9TyNU7/lx5SFhEIE+rcK9h2FP",
      "include_colab_link": true
    },
    "kernelspec": {
      "name": "python3",
      "display_name": "Python 3"
    },
    "language_info": {
      "name": "python"
    }
  },
  "cells": [
    {
      "cell_type": "markdown",
      "metadata": {
        "id": "view-in-github",
        "colab_type": "text"
      },
      "source": [
        "<a href=\"https://colab.research.google.com/github/pedrorotta/PythonBasico2022/blob/main/Lectura7_Matplotlib.ipynb\" target=\"_parent\"><img src=\"https://colab.research.google.com/assets/colab-badge.svg\" alt=\"Open In Colab\"/></a>"
      ]
    },
    {
      "cell_type": "markdown",
      "source": [
        "# Matplotlib"
      ],
      "metadata": {
        "id": "q8JhK-tA2Rw9"
      }
    },
    {
      "cell_type": "markdown",
      "source": [
        "## Problema 1"
      ],
      "metadata": {
        "id": "jL1G8L5i2Nxw"
      }
    },
    {
      "cell_type": "code",
      "source": [
        "#Grafica una función cuadrática"
      ],
      "metadata": {
        "id": "X9koVUSa2UjA"
      },
      "execution_count": null,
      "outputs": []
    },
    {
      "cell_type": "code",
      "source": [
        "# Crea un graficador de funciones\n",
        "\n",
        "\n"
      ],
      "metadata": {
        "id": "Ma6BnH3X3EEp"
      },
      "execution_count": 52,
      "outputs": []
    },
    {
      "cell_type": "markdown",
      "source": [
        "## Problema 2"
      ],
      "metadata": {
        "id": "oMOrtr9g7LaO"
      }
    },
    {
      "cell_type": "code",
      "source": [
        "#Crea un programa que permita modificar las axisas "
      ],
      "metadata": {
        "id": "q2IlwV-Q4lNg"
      },
      "execution_count": 53,
      "outputs": []
    },
    {
      "cell_type": "markdown",
      "source": [
        "## Problema 3"
      ],
      "metadata": {
        "id": "hXzh95pU8b1E"
      }
    },
    {
      "cell_type": "code",
      "source": [
        "#En una figura con un solo subplot dibujar una traza senoidal y una cosenoidal\n"
      ],
      "metadata": {
        "id": "xrQCSVhX7w3k"
      },
      "execution_count": 54,
      "outputs": []
    },
    {
      "cell_type": "markdown",
      "source": [
        "##Problema 4"
      ],
      "metadata": {
        "id": "xvbTDwBWAm4z"
      }
    },
    {
      "cell_type": "code",
      "source": [
        "# Hacer 2 trazas, una del seno y otra del coseno de x, en una figura. \n"
      ],
      "metadata": {
        "id": "oujsG6ou8uEJ"
      },
      "execution_count": 55,
      "outputs": []
    },
    {
      "cell_type": "markdown",
      "source": [
        "## Problema 5"
      ],
      "metadata": {
        "id": "RXwfjHr4Cbwp"
      }
    },
    {
      "cell_type": "code",
      "source": [
        "#Cambiar el tipo de axisas para el sen de x\n"
      ],
      "metadata": {
        "id": "8tU0zlYJA1CP"
      },
      "execution_count": 56,
      "outputs": []
    },
    {
      "cell_type": "code",
      "source": [
        ""
      ],
      "metadata": {
        "id": "c41fKdq4DT4w"
      },
      "execution_count": 56,
      "outputs": []
    },
    {
      "cell_type": "markdown",
      "source": [
        "## Problema 6"
      ],
      "metadata": {
        "id": "63Qgthg5FsZh"
      }
    },
    {
      "cell_type": "code",
      "source": [
        "# Compartir axisa para 3 funciones en el t\n"
      ],
      "metadata": {
        "id": "OYXq_U1nFuM1"
      },
      "execution_count": 57,
      "outputs": []
    },
    {
      "cell_type": "markdown",
      "source": [
        "## Problema 7"
      ],
      "metadata": {
        "id": "loK9xSFgJxln"
      }
    },
    {
      "cell_type": "code",
      "source": [
        "\n",
        "#Dibuja un parche de circunferencia\n",
        "\n"
      ],
      "metadata": {
        "id": "lGFSqbG4Hmae"
      },
      "execution_count": 58,
      "outputs": []
    },
    {
      "cell_type": "markdown",
      "source": [
        "## Problema 8"
      ],
      "metadata": {
        "id": "7GzYl02hKjAu"
      }
    },
    {
      "cell_type": "code",
      "source": [
        "#Dibujar un rectángulo"
      ],
      "metadata": {
        "id": "V75OUTTzJmS2"
      },
      "execution_count": 38,
      "outputs": []
    },
    {
      "cell_type": "code",
      "source": [
        "#Escribe una función para graficar el seno de un rango dado por el usuario"
      ],
      "metadata": {
        "id": "48R41ZsuKohR"
      },
      "execution_count": 44,
      "outputs": []
    },
    {
      "cell_type": "code",
      "source": [
        "#Grafica una función exponencial e**x"
      ],
      "metadata": {
        "id": "zBO8XP7_LL7P"
      },
      "execution_count": 45,
      "outputs": []
    },
    {
      "cell_type": "code",
      "source": [
        "#Grafica en la misma traza, una función logarítmica y una función exponencial"
      ],
      "metadata": {
        "id": "24jImELALRQW"
      },
      "execution_count": 46,
      "outputs": []
    },
    {
      "cell_type": "code",
      "source": [
        "#Grafica en la misma figura, en diferentes trazas el comportamiento de un cuerpo (la aceleración, espacio recorrido y velocidad), dada la velocidad = 3*x+2"
      ],
      "metadata": {
        "id": "8PPVjJdkLV5a"
      },
      "execution_count": 47,
      "outputs": []
    },
    {
      "cell_type": "code",
      "source": [
        "#Grafica en la misma figura, pero con spines distintos, y difentes trazas, el sen y coseno de x desde -2pi hasta 2pi"
      ],
      "metadata": {
        "id": "s6uwzd73Li0i"
      },
      "execution_count": 48,
      "outputs": []
    },
    {
      "cell_type": "code",
      "source": [
        "#Grafica en un parche, un elipse con centro en 0,0, un ancho de 2 y un alto de 4. "
      ],
      "metadata": {
        "id": "NzqvZn9ALxGw"
      },
      "execution_count": 49,
      "outputs": []
    },
    {
      "cell_type": "code",
      "source": [
        "#Grafica en una figura, 3 trazas compartiendo el mismo x, en donde sea y1 = x**2, y2 = x**3 y y3 dado por el usuario"
      ],
      "metadata": {
        "id": "S60uhfWXL6FP"
      },
      "execution_count": 50,
      "outputs": []
    }
  ]
}