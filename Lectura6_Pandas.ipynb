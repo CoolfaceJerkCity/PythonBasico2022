{
  "nbformat": 4,
  "nbformat_minor": 0,
  "metadata": {
    "colab": {
      "name": "Lectura6_Pandas.ipynb",
      "provenance": [],
      "collapsed_sections": [],
      "authorship_tag": "ABX9TyMV1e0oXOpu+CV3KLLJ6Fza",
      "include_colab_link": true
    },
    "kernelspec": {
      "name": "python3",
      "display_name": "Python 3"
    },
    "language_info": {
      "name": "python"
    }
  },
  "cells": [
    {
      "cell_type": "markdown",
      "metadata": {
        "id": "view-in-github",
        "colab_type": "text"
      },
      "source": [
        "<a href=\"https://colab.research.google.com/github/pedrorotta/PythonBasico2022/blob/main/Lectura6_Pandas.ipynb\" target=\"_parent\"><img src=\"https://colab.research.google.com/assets/colab-badge.svg\" alt=\"Open In Colab\"/></a>"
      ]
    },
    {
      "cell_type": "markdown",
      "source": [
        "#Pandas\n",
        "\n",
        "En esta clase vamos a discutir las cosas que se pueden realizar usando estas 2 librerías de python"
      ],
      "metadata": {
        "id": "Da_awT_sjbHR"
      }
    },
    {
      "cell_type": "markdown",
      "source": [
        "## Problema1"
      ],
      "metadata": {
        "id": "V5SX_oBfmpGL"
      }
    },
    {
      "cell_type": "code",
      "source": [
        "\"\"\"\n",
        "Crear un DataFrame por medio de un diccionario y por medio de una lista\n",
        "\"\"\"\n",
        "\n",
        "\n"
      ],
      "metadata": {
        "id": "T5PWUfWMUvkr"
      },
      "execution_count": null,
      "outputs": []
    },
    {
      "cell_type": "markdown",
      "source": [
        "## Problema 2"
      ],
      "metadata": {
        "id": "vMUnHg_AXlAZ"
      }
    },
    {
      "cell_type": "code",
      "source": [
        "\"\"\"\n",
        "Crear un DataFrame importando un archivo de excel\n",
        "\"\"\""
      ],
      "metadata": {
        "id": "G45VYrmIXm6Y"
      },
      "execution_count": null,
      "outputs": []
    },
    {
      "cell_type": "code",
      "source": [
        "\n",
        "\"\"\"\n",
        "Subir los datos del Excel\n",
        "\"\"\"\n"
      ],
      "metadata": {
        "id": "494oIaSPwmBi"
      },
      "execution_count": null,
      "outputs": []
    },
    {
      "cell_type": "markdown",
      "source": [
        "## Problema 3"
      ],
      "metadata": {
        "id": "GPYrjaJ0YRjP"
      }
    },
    {
      "cell_type": "code",
      "source": [
        "\"\"\"\n",
        "Añade una nueva fila al DataFrame\n",
        "\"\"\"\n",
        "\n",
        "\n",
        "\n"
      ],
      "metadata": {
        "colab": {
          "base_uri": "https://localhost:8080/",
          "height": 36
        },
        "id": "Kn8-WU1kHZUT",
        "outputId": "7608fdde-cbac-4d94-99e1-6fdad06cd382"
      },
      "execution_count": 3,
      "outputs": [
        {
          "output_type": "execute_result",
          "data": {
            "application/vnd.google.colaboratory.intrinsic+json": {
              "type": "string"
            },
            "text/plain": [
              "'\\nAñade una nueva fila al DataFrame\\n'"
            ]
          },
          "metadata": {},
          "execution_count": 3
        }
      ]
    },
    {
      "cell_type": "markdown",
      "source": [
        "## Problema 4"
      ],
      "metadata": {
        "id": "UoG_AyrFZI4s"
      }
    },
    {
      "cell_type": "code",
      "source": [
        "#Hacer una función para obtener una lista de las columnas del DataFrame\n",
        "\n",
        "\n"
      ],
      "metadata": {
        "id": "1dgXjE-AZITc"
      },
      "execution_count": 4,
      "outputs": []
    },
    {
      "cell_type": "markdown",
      "source": [
        "## Problema 5"
      ],
      "metadata": {
        "id": "y2_4gAiQaDul"
      }
    },
    {
      "cell_type": "code",
      "source": [
        "# Hacer un programa para añadir filas\n",
        "\n"
      ],
      "metadata": {
        "id": "onr4yWil5GFc"
      },
      "execution_count": 5,
      "outputs": []
    },
    {
      "cell_type": "markdown",
      "source": [
        "## Problema 6"
      ],
      "metadata": {
        "id": "ly5AYHevaVCO"
      }
    },
    {
      "cell_type": "code",
      "source": [
        "\"\"\"\n",
        "Mostrar la tabla con los últimos 5 y los primeros 5 elementos\n",
        "\"\"\"\n"
      ],
      "metadata": {
        "id": "nAk4Hkx2fSN8"
      },
      "execution_count": null,
      "outputs": []
    },
    {
      "cell_type": "markdown",
      "source": [
        "### Problema 7"
      ],
      "metadata": {
        "id": "6LyTeWNJHBKZ"
      }
    },
    {
      "cell_type": "code",
      "source": [
        "\"\"\"\n",
        "Hacer un código que muestre las n primeras filas, dadas por el usuario \n",
        "y de la columna 1, los primeros 5 datos\n",
        "\"\"\"  \n",
        "\n",
        "\n",
        "\n"
      ],
      "metadata": {
        "id": "USpBknxnGnL5"
      },
      "execution_count": null,
      "outputs": []
    },
    {
      "cell_type": "markdown",
      "source": [
        "## Problema 8"
      ],
      "metadata": {
        "id": "TAV3bWRucsQY"
      }
    },
    {
      "cell_type": "code",
      "source": [
        "\"\"\"\n",
        "Hacer un código para filtar datos según ciertos criterios y describe los datos estadísticos. \n",
        "\"\"\"\n"
      ],
      "metadata": {
        "colab": {
          "base_uri": "https://localhost:8080/",
          "height": 36
        },
        "id": "EAxlMjuLcts5",
        "outputId": "2dd3ba3f-7f5d-480a-91e1-ea214a40c8b3"
      },
      "execution_count": 1,
      "outputs": [
        {
          "output_type": "execute_result",
          "data": {
            "application/vnd.google.colaboratory.intrinsic+json": {
              "type": "string"
            },
            "text/plain": [
              "'\\nHacer un código para filtar datos según ciertos criterios\\n'"
            ]
          },
          "metadata": {},
          "execution_count": 1
        }
      ]
    },
    {
      "cell_type": "markdown",
      "source": [
        "## Problema 9"
      ],
      "metadata": {
        "id": "oyTCESp0-If-"
      }
    },
    {
      "cell_type": "code",
      "source": [
        "\"\"\"\n",
        "ordenar el dataframe por una columna\n",
        "\"\"\""
      ],
      "metadata": {
        "id": "hU2t9ulK-dT0",
        "colab": {
          "base_uri": "https://localhost:8080/",
          "height": 36
        },
        "outputId": "51a04535-ae7e-4f68-ccc8-a9472d18141e"
      },
      "execution_count": 2,
      "outputs": [
        {
          "output_type": "execute_result",
          "data": {
            "application/vnd.google.colaboratory.intrinsic+json": {
              "type": "string"
            },
            "text/plain": [
              "'\\nordenar el dataframe por una columna\\n'"
            ]
          },
          "metadata": {},
          "execution_count": 2
        }
      ]
    },
    {
      "cell_type": "markdown",
      "source": [
        "## Problema10 "
      ],
      "metadata": {
        "id": "kW7qhus-dYcU"
      }
    },
    {
      "cell_type": "code",
      "source": [
        "\"\"\"\n",
        "Guarda una tabla creada \n",
        "\"\"\""
      ],
      "metadata": {
        "id": "KqFDzrCSab29"
      },
      "execution_count": null,
      "outputs": []
    },
    {
      "cell_type": "markdown",
      "source": [
        "## Problema 11"
      ],
      "metadata": {
        "id": "mZf95HHMfcOd"
      }
    },
    {
      "cell_type": "code",
      "source": [
        "\"\"\"\n",
        "Genera una función para que un usuario cree un df\n",
        "\"\"\""
      ],
      "metadata": {
        "id": "uXYplQmbdd6G"
      },
      "execution_count": null,
      "outputs": []
    },
    {
      "cell_type": "markdown",
      "source": [
        "## Problema 12"
      ],
      "metadata": {
        "id": "ImE-REHCfeBT"
      }
    },
    {
      "cell_type": "code",
      "source": [
        "\"\"\"\n",
        "Genere una función que a partir de una df y el valor de una columna, se genere una lista con los valores de dicha columna:\n",
        "\n",
        "funcion(df,columna)\n",
        "\"\"\""
      ],
      "metadata": {
        "id": "6SKgekpEdd0N"
      },
      "execution_count": null,
      "outputs": []
    },
    {
      "cell_type": "markdown",
      "source": [
        "## Problema 13"
      ],
      "metadata": {
        "id": "39GuCrqtff20"
      }
    },
    {
      "cell_type": "code",
      "source": [
        "\"\"\"\n",
        "Genere una una función que permita filtar por nombre una tabla del tipo (Nombre, edad, Nota)\n",
        "\"\"\""
      ],
      "metadata": {
        "id": "yw-5bRU9ddxd"
      },
      "execution_count": null,
      "outputs": []
    },
    {
      "cell_type": "markdown",
      "source": [
        "## Problema 14"
      ],
      "metadata": {
        "id": "lAUF3zmtfibB"
      }
    },
    {
      "cell_type": "code",
      "source": [
        "\"\"\"\n",
        "Genere un programa o función que permita guardar nuevas filas en un df\n",
        "\"\"\""
      ],
      "metadata": {
        "colab": {
          "base_uri": "https://localhost:8080/",
          "height": 36
        },
        "id": "W90cgLxlddm9",
        "outputId": "a5332ddf-77db-4547-91c5-b11e57f01a4b"
      },
      "execution_count": 6,
      "outputs": [
        {
          "output_type": "execute_result",
          "data": {
            "application/vnd.google.colaboratory.intrinsic+json": {
              "type": "string"
            },
            "text/plain": [
              "'\\nGenere un programa o función que permita guardar nuevas filas en un df\\n'"
            ]
          },
          "metadata": {},
          "execution_count": 6
        }
      ]
    },
    {
      "cell_type": "markdown",
      "source": [
        "## Problema 15"
      ],
      "metadata": {
        "id": "g8aHqYwpfkE1"
      }
    },
    {
      "cell_type": "code",
      "source": [
        "\"\"\"\n",
        "Genere un programa que guarde una tabla\n",
        "\"\"\""
      ],
      "metadata": {
        "id": "zfhnFT5ZfD9c"
      },
      "execution_count": null,
      "outputs": []
    }
  ]
}