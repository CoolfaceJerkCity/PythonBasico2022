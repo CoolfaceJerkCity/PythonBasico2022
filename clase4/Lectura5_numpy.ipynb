{
  "nbformat": 4,
  "nbformat_minor": 0,
  "metadata": {
    "colab": {
      "name": "Lectura5_numpy.ipynb",
      "provenance": [],
      "collapsed_sections": []
    },
    "kernelspec": {
      "name": "python3",
      "display_name": "Python 3"
    },
    "language_info": {
      "name": "python"
    }
  },
  "cells": [
    {
      "cell_type": "markdown",
      "source": [
        "#Numpy\n",
        "\n",
        "En esta clase vamos a discutir las cosas que se pueden realizar usando esta librería de python"
      ],
      "metadata": {
        "id": "Da_awT_sjbHR"
      }
    },
    {
      "cell_type": "markdown",
      "source": [
        "## Problema1"
      ],
      "metadata": {
        "id": "V5SX_oBfmpGL"
      }
    },
    {
      "cell_type": "code",
      "source": [
        "#Realizar el comando para instalar numpy\n",
        "!pip install numpy"
      ],
      "metadata": {
        "id": "8KcpKfslcOCA",
        "colab": {
          "base_uri": "https://localhost:8080/"
        },
        "outputId": "a2b122d2-863c-4201-9985-80113ec3cece"
      },
      "execution_count": null,
      "outputs": [
        {
          "output_type": "stream",
          "name": "stdout",
          "text": [
            "Requirement already satisfied: numpy in /usr/local/lib/python3.7/dist-packages (1.19.5)\n"
          ]
        }
      ]
    },
    {
      "cell_type": "code",
      "source": [
        "import numpy as np #como una abreviación (Se utiliza cuando deseamos abreviar el nombre completo de una librería)\n"
      ],
      "metadata": {
        "id": "nDPNThBEJCMQ"
      },
      "execution_count": null,
      "outputs": []
    },
    {
      "cell_type": "code",
      "source": [
        "#dir(np)"
      ],
      "metadata": {
        "id": "osKb0AjaJRFQ"
      },
      "execution_count": null,
      "outputs": []
    },
    {
      "cell_type": "code",
      "source": [
        "from numpy import array #Solo estás importando un método "
      ],
      "metadata": {
        "id": "ahDmZLR1Jtp3"
      },
      "execution_count": null,
      "outputs": []
    },
    {
      "cell_type": "code",
      "source": [
        "#np.array (En el caso general) #abrev.method()\n",
        "#array (En el caso de querer llamar al método específico )"
      ],
      "metadata": {
        "id": "detBwDPfJ5RP"
      },
      "execution_count": null,
      "outputs": []
    },
    {
      "cell_type": "markdown",
      "source": [
        "## Problema 2"
      ],
      "metadata": {
        "id": "LmtsaXNn7WIg"
      }
    },
    {
      "cell_type": "code",
      "source": [
        "\"\"\"\n",
        "Crea un programa para almacenar las salidas (Valores negativos) y entradas (Valores positivos) del día en un array\n",
        "\"\"\"\n",
        "\n",
        "list_FlujoCaja = []\n",
        "decision = input('S para iniciar')\n",
        "while decision == 'S':\n",
        "  Entrada = round(float(input('Ingrese su entrada o salida: ')),2)\n",
        "  list_FlujoCaja.append(Entrada)\n",
        "  decision = input('S para seguir')\n",
        "\n",
        "array_FlujoCaja = np.array(list_FlujoCaja)\n",
        "print(array_FlujoCaja)\n",
        "print(type(array_FlujoCaja))"
      ],
      "metadata": {
        "id": "UO1UMkASpTUm",
        "colab": {
          "base_uri": "https://localhost:8080/"
        },
        "outputId": "00456e44-21c3-44a8-e3dc-12823b41dc98"
      },
      "execution_count": null,
      "outputs": [
        {
          "output_type": "stream",
          "name": "stdout",
          "text": [
            "S para iniciarS\n",
            "Ingrese su entrada o salida: 24\n",
            "S para seguirS\n",
            "Ingrese su entrada o salida: 25\n",
            "S para seguirS\n",
            "Ingrese su entrada o salida: -14\n",
            "S para seguirx\n",
            "[ 24.  25. -14.]\n",
            "<class 'numpy.ndarray'>\n"
          ]
        }
      ]
    },
    {
      "cell_type": "markdown",
      "source": [
        "##Problema 3 "
      ],
      "metadata": {
        "id": "Bg8UJYjU-xvu"
      }
    },
    {
      "cell_type": "code",
      "source": [
        "vec_simple1 = np.arange(10)\n",
        "print(vec_simple1)"
      ],
      "metadata": {
        "colab": {
          "base_uri": "https://localhost:8080/"
        },
        "id": "3m9bKEo8RcDg",
        "outputId": "b85e498c-815a-4405-a37a-accbf2e34689"
      },
      "execution_count": null,
      "outputs": [
        {
          "output_type": "stream",
          "name": "stdout",
          "text": [
            "[0 1 2 3 4 5 6 7 8 9]\n"
          ]
        }
      ]
    },
    {
      "cell_type": "code",
      "source": [
        "vec_simple2 = np.ones((5,)) #Formato (n,) me genera un vector de longitud (número de elementos) n  o (1,n)\n",
        "print(vec_simple2)\n",
        "vec_simple3 = np.ones((1,4))\n",
        "print(vec_simple3)"
      ],
      "metadata": {
        "colab": {
          "base_uri": "https://localhost:8080/"
        },
        "id": "qslW87eXRk5I",
        "outputId": "bc8c67e1-1eb6-433a-ad6e-9e1a11056a8c"
      },
      "execution_count": null,
      "outputs": [
        {
          "output_type": "stream",
          "name": "stdout",
          "text": [
            "[1. 1. 1. 1. 1.]\n",
            "[[1. 1. 1. 1.]]\n"
          ]
        }
      ]
    },
    {
      "cell_type": "code",
      "source": [
        "import random"
      ],
      "metadata": {
        "id": "6oc7jhWBTrXK"
      },
      "execution_count": null,
      "outputs": []
    },
    {
      "cell_type": "code",
      "source": [
        "#dir(random)"
      ],
      "metadata": {
        "id": "efU8PkyQTtKh"
      },
      "execution_count": null,
      "outputs": []
    },
    {
      "cell_type": "code",
      "source": [
        "\"\"\"\n",
        "Crea una colección en un array de números flotantes del 10 al 20, donde hallan 100 números\n",
        "\"\"\"\n",
        "vect_simple4 = np.round(np.linspace(2,5,10),2)\n",
        "print(vect_simple4)\n",
        "\n"
      ],
      "metadata": {
        "colab": {
          "base_uri": "https://localhost:8080/"
        },
        "id": "Wxx5Xg8saJzH",
        "outputId": "03e6fddd-a4b3-4f35-c002-239584f2a441"
      },
      "execution_count": null,
      "outputs": [
        {
          "output_type": "stream",
          "name": "stdout",
          "text": [
            "[2.   2.33 2.67 3.   3.33 3.67 4.   4.33 4.67 5.  ]\n"
          ]
        }
      ]
    },
    {
      "cell_type": "markdown",
      "source": [
        "## Problema 4"
      ],
      "metadata": {
        "id": "YD4okjZgh6J4"
      }
    },
    {
      "cell_type": "code",
      "execution_count": null,
      "metadata": {
        "id": "UbwyQd_UiRxP",
        "colab": {
          "base_uri": "https://localhost:8080/"
        },
        "outputId": "6b3a433d-004b-4e21-8603-1ae95472a461"
      },
      "outputs": [
        {
          "output_type": "stream",
          "name": "stdout",
          "text": [
            "[[192.1 100.3 600.   75.7]\n",
            " [140.1 100.3 600.   75.7]\n",
            " [220.1 140.3 600.   75.7]]\n"
          ]
        }
      ],
      "source": [
        "\"\"\"\n",
        "Crear un array para gastos trimestrales (Enero, Febrero y Marzo). De comida, transporte, vivenda y celular\n",
        "\"\"\"\n",
        "Gast_Enero = np.array([192.1,100.3,600,75.70])\n",
        "Gast_Febrero = np.array([140.1,100.3,600,75.70])\n",
        "Gast_Marzo = np.array([220.1,140.3,600,75.70])\n",
        "Gast_Trimestrales = np.array([Gast_Enero,Gast_Febrero,Gast_Marzo])\n",
        "print(Gast_Trimestrales)"
      ]
    },
    {
      "cell_type": "code",
      "source": [
        "Gast_Enero = np.array([192.1,100.3,600,75.70])\n",
        "Gast_Febrero = np.array([140.1,100.3,600,75.70])\n",
        "Gast_Marzo = np.array([220.1,140.3,600,75.70])\n",
        "Gast_Trimestrales = np.vstack([Gast_Enero,Gast_Febrero,Gast_Marzo])\n",
        "print(Gast_Trimestrales)"
      ],
      "metadata": {
        "id": "rd10XG6ySyF-",
        "colab": {
          "base_uri": "https://localhost:8080/"
        },
        "outputId": "326ba913-7dc7-4a0a-b8f9-e75c87a52376"
      },
      "execution_count": null,
      "outputs": [
        {
          "output_type": "stream",
          "name": "stdout",
          "text": [
            "[[192.1 100.3 600.   75.7]\n",
            " [140.1 100.3 600.   75.7]\n",
            " [220.1 140.3 600.   75.7]]\n"
          ]
        }
      ]
    },
    {
      "cell_type": "code",
      "source": [
        "Gast_Enero = np.array([192.1,100.3,600,75.70])\n",
        "Gast_Febrero = np.array([140.1,100.3,600,75.70])\n",
        "Gast_Marzo = np.array([220.1,140.3,600,75.70])\n",
        "Gast_Trimestrales = np.hstack([Gast_Enero,Gast_Febrero,Gast_Marzo])\n",
        "print(Gast_Trimestrales)"
      ],
      "metadata": {
        "id": "TZ3iV3yKTRwK",
        "colab": {
          "base_uri": "https://localhost:8080/"
        },
        "outputId": "5fd2fdc1-5376-42b9-af7d-5daf54d087a5"
      },
      "execution_count": null,
      "outputs": [
        {
          "output_type": "stream",
          "name": "stdout",
          "text": [
            "[192.1 100.3 600.   75.7 140.1 100.3 600.   75.7 220.1 140.3 600.   75.7]\n"
          ]
        }
      ]
    },
    {
      "cell_type": "code",
      "source": [
        "Gast_Enero = np.array([192.1,100.3,600,75.70])\n",
        "Gast_Febrero = np.array([140.1,100.3,600,75.70])\n",
        "Gast_Marzo = np.array([220.1,140.3,600,75.70])\n",
        "Gast_Trimestrales = np.c_[Gast_Enero,Gast_Febrero,Gast_Marzo]\n",
        "print(Gast_Trimestrales)"
      ],
      "metadata": {
        "id": "uq8cDel2qY0B",
        "colab": {
          "base_uri": "https://localhost:8080/"
        },
        "outputId": "6fdf122a-35c6-4bc4-b110-315b19ffbafc"
      },
      "execution_count": null,
      "outputs": [
        {
          "output_type": "stream",
          "name": "stdout",
          "text": [
            "[[192.1 140.1 220.1]\n",
            " [100.3 100.3 140.3]\n",
            " [600.  600.  600. ]\n",
            " [ 75.7  75.7  75.7]]\n"
          ]
        }
      ]
    },
    {
      "cell_type": "code",
      "source": [
        "A = np.array([1,2,3,4])\n",
        "B = np.array([2,3,4,5])\n",
        "A.dot(B)"
      ],
      "metadata": {
        "colab": {
          "base_uri": "https://localhost:8080/"
        },
        "id": "t7yXTNrSaPBw",
        "outputId": "c02ad3fe-af08-4beb-de00-b2fe9dc62623"
      },
      "execution_count": null,
      "outputs": [
        {
          "output_type": "execute_result",
          "data": {
            "text/plain": [
              "40"
            ]
          },
          "metadata": {},
          "execution_count": 32
        }
      ]
    },
    {
      "cell_type": "code",
      "source": [
        "A = np.array([[1,2,3], \n",
        "              [3,4,5]])\n",
        "B = np.array([[2,0,1,2],\n",
        "              [1,2,4,5],\n",
        "              [1,0,2,3]])\n",
        "A.dot(B)"
      ],
      "metadata": {
        "colab": {
          "base_uri": "https://localhost:8080/"
        },
        "id": "m-k-iBE1abtK",
        "outputId": "1f3d69c2-a071-4146-e318-29e7a1c6f2d7"
      },
      "execution_count": null,
      "outputs": [
        {
          "output_type": "execute_result",
          "data": {
            "text/plain": [
              "array([[ 7,  4, 15, 21],\n",
              "       [15,  8, 29, 41]])"
            ]
          },
          "metadata": {},
          "execution_count": 33
        }
      ]
    },
    {
      "cell_type": "markdown",
      "source": [
        "## Problema 5"
      ],
      "metadata": {
        "id": "VFbNy1uJyr78"
      }
    },
    {
      "cell_type": "code",
      "source": [
        "\"\"\"\n",
        "Leer una foto con numpy\n",
        "\"\"\"\n",
        "from PIL import Image\n",
        "ruta = \"/content/Pedro-Rotta-1-300x225.jpg\"\n",
        "img= Image.open(ruta)\n",
        "#img.show(title='Imagen_prueba')\n",
        "print(type(img))"
      ],
      "metadata": {
        "colab": {
          "base_uri": "https://localhost:8080/"
        },
        "id": "AYXvvbnQCN5Q",
        "outputId": "7022febb-8a0f-45a1-82d4-00a29b1f2a26"
      },
      "execution_count": null,
      "outputs": [
        {
          "output_type": "stream",
          "name": "stdout",
          "text": [
            "<class 'PIL.JpegImagePlugin.JpegImageFile'>\n"
          ]
        }
      ]
    },
    {
      "cell_type": "code",
      "source": [
        "#Averiguar si img.show() funciona en un IDE(Los que tengan)\n",
        "#Colocarle un condicional "
      ],
      "metadata": {
        "id": "TC7AAvuufujH"
      },
      "execution_count": null,
      "outputs": []
    },
    {
      "cell_type": "code",
      "source": [
        "img"
      ],
      "metadata": {
        "colab": {
          "base_uri": "https://localhost:8080/",
          "height": 242
        },
        "id": "O-PM2_ZmdlL1",
        "outputId": "b7ad4e3a-3687-425d-a5f5-c46f5ed85fc5"
      },
      "execution_count": null,
      "outputs": [
        {
          "output_type": "execute_result",
          "data": {
            "image/png": "[encoded data removed]",
            "text/plain": [
              "<PIL.JpegImagePlugin.JpegImageFile image mode=RGB size=300x225 at 0x7FE57BB63290>"
            ]
          },
          "metadata": {},
          "execution_count": 41
        }
      ]
    },
    {
      "cell_type": "code",
      "source": [
        "#objetos de visualización de imagen y video son de tipo stream en C++ (streaming)"
      ],
      "metadata": {
        "id": "aO-en3b6Coe1"
      },
      "execution_count": null,
      "outputs": []
    },
    {
      "cell_type": "code",
      "source": [
        "#Objeto creado a TENSOR en numpy\n",
        "img_array = np.array(img)\n",
        "print(img_array)"
      ],
      "metadata": {
        "id": "Tz4cnaFBDzdm",
        "colab": {
          "base_uri": "https://localhost:8080/"
        },
        "outputId": "1c98a553-8d48-4657-c724-cf5d8615fc50"
      },
      "execution_count": null,
      "outputs": [
        {
          "output_type": "stream",
          "name": "stdout",
          "text": [
            "[[[202 203 195]\n",
            "  [204 205 197]\n",
            "  [207 208 200]\n",
            "  ...\n",
            "  [169 152 132]\n",
            "  [169 152 132]\n",
            "  [170 153 133]]\n",
            "\n",
            " [[203 204 196]\n",
            "  [205 206 198]\n",
            "  [208 209 201]\n",
            "  ...\n",
            "  [169 152 132]\n",
            "  [169 152 132]\n",
            "  [170 153 133]]\n",
            "\n",
            " [[204 205 197]\n",
            "  [207 208 200]\n",
            "  [209 210 202]\n",
            "  ...\n",
            "  [169 152 132]\n",
            "  [169 152 132]\n",
            "  [170 153 133]]\n",
            "\n",
            " ...\n",
            "\n",
            " [[ 77  64  55]\n",
            "  [ 78  65  56]\n",
            "  [ 81  68  59]\n",
            "  ...\n",
            "  [ 36  33  26]\n",
            "  [ 36  33  26]\n",
            "  [ 37  34  27]]\n",
            "\n",
            " [[ 77  64  55]\n",
            "  [ 78  65  56]\n",
            "  [ 81  68  59]\n",
            "  ...\n",
            "  [ 36  33  26]\n",
            "  [ 36  33  26]\n",
            "  [ 36  33  26]]\n",
            "\n",
            " [[ 75  61  52]\n",
            "  [ 83  69  60]\n",
            "  [ 85  71  60]\n",
            "  ...\n",
            "  [ 38  33  29]\n",
            "  [ 38  33  29]\n",
            "  [ 40  32  29]]]\n"
          ]
        }
      ]
    },
    {
      "cell_type": "code",
      "source": [
        "print(np.shape(img_array))"
      ],
      "metadata": {
        "id": "labMggzCC29f",
        "colab": {
          "base_uri": "https://localhost:8080/"
        },
        "outputId": "7fe7cfc2-3c3d-4c42-d9cc-649173073b42"
      },
      "execution_count": null,
      "outputs": [
        {
          "output_type": "stream",
          "name": "stdout",
          "text": [
            "(225, 300, 3)\n"
          ]
        }
      ]
    },
    {
      "cell_type": "code",
      "source": [
        "# Crea una matriz de 3x4 de unos "
      ],
      "metadata": {
        "id": "A3_NlodmMl9u"
      },
      "execution_count": null,
      "outputs": []
    },
    {
      "cell_type": "code",
      "source": [
        "# Crea una matriz de 5x3 de ceros"
      ],
      "metadata": {
        "id": "sI9fvLGdMmZo"
      },
      "execution_count": null,
      "outputs": []
    },
    {
      "cell_type": "code",
      "source": [
        "# Haz un programa para que un usuario cree una matriz indentidad de un tamaño que el elija"
      ],
      "metadata": {
        "id": "vPksNxOyMmuB"
      },
      "execution_count": null,
      "outputs": []
    },
    {
      "cell_type": "code",
      "source": [
        "# Genere un función para calcular la transpuesta de una matriz "
      ],
      "metadata": {
        "id": "VlsAE7OtMm-4"
      },
      "execution_count": null,
      "outputs": []
    },
    {
      "cell_type": "code",
      "source": [
        "# Genere una función para encontrar el producto interno de un vector por si mismo"
      ],
      "metadata": {
        "id": "kDQxOAy4MnOI"
      },
      "execution_count": null,
      "outputs": []
    },
    {
      "cell_type": "code",
      "source": [
        "# Genere una función que convierta directamente una imagen en un array (Ingresa un url y la salida es un array)"
      ],
      "metadata": {
        "id": "A8GPf-_QMxro"
      },
      "execution_count": null,
      "outputs": []
    }
  ]
}